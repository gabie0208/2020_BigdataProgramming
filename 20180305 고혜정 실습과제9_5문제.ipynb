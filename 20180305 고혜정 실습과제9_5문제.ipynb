{
 "cells": [
  {
   "cell_type": "markdown",
   "metadata": {},
   "source": [
    "## datetime 이용하여 요일 구하기_sys.argv"
   ]
  },
  {
   "cell_type": "code",
   "execution_count": 1,
   "metadata": {},
   "outputs": [
    {
     "name": "stdout",
     "output_type": "stream",
     "text": [
      "Overwriting W_2_.py\n"
     ]
    }
   ],
   "source": [
    "%%writefile W_2_.py\n",
    "\n",
    "import sys\n",
    "from datetime import datetime\n",
    "\n",
    "dayname = {0 : '월', 1:'화', 2:'수', 3:'목', 4:'금', 5:'토', 6:'일'}\n",
    "year = int(sys.argv[1])\n",
    "month = int(sys.argv[2])\n",
    "day = int(sys.argv[3])\n",
    "day = datetime(year, month, day)\n",
    "dayofweek = day.weekday()\n",
    "print(dayname[dayofweek])"
   ]
  },
  {
   "cell_type": "code",
   "execution_count": 2,
   "metadata": {},
   "outputs": [
    {
     "name": "stdout",
     "output_type": "stream",
     "text": [
      "월\n"
     ]
    }
   ],
   "source": [
    "%run W_2_.py 2020 11 9"
   ]
  },
  {
   "cell_type": "markdown",
   "metadata": {},
   "source": [
    "## 운영체제 확인"
   ]
  },
  {
   "cell_type": "code",
   "execution_count": 3,
   "metadata": {},
   "outputs": [
    {
     "name": "stdout",
     "output_type": "stream",
     "text": [
      "nt\n"
     ]
    }
   ],
   "source": [
    "import os\n",
    "print(os.name)"
   ]
  },
  {
   "cell_type": "markdown",
   "metadata": {},
   "source": [
    "## 윤년 요일 구하기 _ command line arguments"
   ]
  },
  {
   "cell_type": "code",
   "execution_count": 4,
   "metadata": {
    "colab": {
     "base_uri": "https://localhost:8080/",
     "height": 102
    },
    "id": "ssANJrRPojkV",
    "outputId": "88c59a02-1651-4006-8a94-b9ba9e055d81"
   },
   "outputs": [
    {
     "name": "stdout",
     "output_type": "stream",
     "text": [
      "Writing leapclass.py\n"
     ]
    }
   ],
   "source": [
    "%%writefile leapclass.py\n",
    "\n",
    "import sys\n",
    "from datetime import datetime\n",
    "\n",
    "class DayName:\n",
    "    \n",
    "    def __init__(self,year,month,day):\n",
    "        self.year=year\n",
    "        self.month=month\n",
    "        self.day=day\n",
    "\n",
    "    def input_date():\n",
    "        year = int(input(\"__년도를 입력하시오 : \"))\n",
    "        month = int(input(\"__월을 입력하시오 : \"))\n",
    "        day = int(input(\"__일을 입력하시오 : \"))   \n",
    "        return year,month,day\n",
    "  \n",
    "    def get_name(self):    \n",
    "        self.month_lst = [0, 31, 28, 31, 30, 31, 30, 31, 31, 30, 31, 30, 31]\n",
    "        self.day_lst = ['일요일','월요일','화요일','수요일','목요일','금요일','토요일']\n",
    "        self.days = int((self.year - 1)*365 + (self.year - 1)/4 - (self.year - 1)/100 + (self.year - 1)/400)\n",
    "        if self.is_leap() == True:\n",
    "            self.month_lst[2] = 29\n",
    "        for i in range(self.month):\n",
    "            self.days += self.month_lst[i]    \n",
    "        self.days += self.day\n",
    "        return self.day_lst[self.days % 7]\n",
    "\n",
    "    def is_leap(self):\n",
    "        return (((self.year % 4 == 0) and (self.year % 100 != 0)) or (self.year % 400 == 0))\n",
    "    \n",
    "    def getYear(self):\n",
    "        return self.year\n",
    "\n",
    "if __name__ == \"__main__\":\n",
    "    year, month, day = int(sys.argv[1]), int(sys.argv[2]), int(sys.argv[3])\n",
    "    day_name = DayName(year, month, day)\n",
    "    print(day_name.get_name())\n",
    "    if day_name.is_leap()==True:\n",
    "        print(\"입력하신 %s은 윤년입니다\" %day_name.getYear())"
   ]
  },
  {
   "cell_type": "code",
   "execution_count": 5,
   "metadata": {},
   "outputs": [
    {
     "name": "stdout",
     "output_type": "stream",
     "text": [
      "월요일\n",
      "입력하신 2020은 윤년입니다\n"
     ]
    }
   ],
   "source": [
    "%run leapclass.py 2020 11 9"
   ]
  },
  {
   "cell_type": "markdown",
   "metadata": {},
   "source": [
    "## math module 수식"
   ]
  },
  {
   "cell_type": "code",
   "execution_count": 6,
   "metadata": {},
   "outputs": [
    {
     "name": "stdout",
     "output_type": "stream",
     "text": [
      "-3.7651608440352804e-13\n"
     ]
    }
   ],
   "source": [
    "import math\n",
    "\n",
    "a = 2000\n",
    "b = math.log10(20)\n",
    "c = math.sin(2*math.pi)\n",
    "answer = (a/b)*c\n",
    "print(answer)"
   ]
  },
  {
   "cell_type": "code",
   "execution_count": 7,
   "metadata": {},
   "outputs": [
    {
     "name": "stdout",
     "output_type": "stream",
     "text": [
      "1.2766526108099888e+48\n"
     ]
    }
   ],
   "source": [
    "import math\n",
    "\n",
    "a = math.pow(3,100)\n",
    "b = math.log10(300)\n",
    "answer = a*b\n",
    "print(answer)"
   ]
  },
  {
   "cell_type": "code",
   "execution_count": 8,
   "metadata": {},
   "outputs": [
    {
     "name": "stdout",
     "output_type": "stream",
     "text": [
      "1.0000000000000002\n"
     ]
    }
   ],
   "source": [
    "import math\n",
    "\n",
    "a = math.sin(math.pi/4)\n",
    "b = pow(2,(1/2))\n",
    "answer = a*b\n",
    "print(answer)"
   ]
  },
  {
   "cell_type": "markdown",
   "metadata": {},
   "source": [
    "## random module 가위바위보 게임"
   ]
  },
  {
   "cell_type": "code",
   "execution_count": 9,
   "metadata": {},
   "outputs": [
    {
     "name": "stdout",
     "output_type": "stream",
     "text": [
      "가위, 바위, 보 중 하나를 선택하시오: 바위\n",
      "플레이어:  바위\n",
      "컴퓨터:  보\n",
      "컴퓨터가 이겼습니다.\n"
     ]
    }
   ],
   "source": [
    "import random\n",
    "\n",
    "def win_or_lose(a,b):\n",
    "    if player_choice == computer_choice:\n",
    "        print(\"비겼습니다.\")\n",
    "    if player_choice == '가위' and computer_choice == '보':\n",
    "        print(\"당신이 이겼습니다.\")\n",
    "    if player_choice == '바위' and computer_choice == '가위':\n",
    "        print(\"당신이 이겼습니다.\")\n",
    "    if player_choice == '보' and computer_choice == '바위':\n",
    "        print(\"당신이 이겼습니다.\")\n",
    "    else:\n",
    "         print(\"컴퓨터가 이겼습니다.\")\n",
    "    \n",
    "if __name__ == \"__main__\":  \n",
    "    choices = {1:'가위', 2:'바위', 3:'보'}\n",
    "    player_choice = input(\"가위, 바위, 보 중 하나를 선택하시오: \")\n",
    "    computer_choice = choices[random.randint(1, 3)]\n",
    "\n",
    "    print(\"플레이어: \", player_choice)\n",
    "    print(\"컴퓨터: \", computer_choice)\n",
    "    win_or_lose(player_choice, computer_choice)"
   ]
  },
  {
   "cell_type": "code",
   "execution_count": null,
   "metadata": {},
   "outputs": [],
   "source": []
  }
 ],
 "metadata": {
  "colab": {
   "name": "과제 6: 과제5의 윤년과 요일찾기의 OOP V.1.ipynb",
   "provenance": []
  },
  "kernelspec": {
   "display_name": "Python 3",
   "language": "python",
   "name": "python3"
  },
  "language_info": {
   "codemirror_mode": {
    "name": "ipython",
    "version": 3
   },
   "file_extension": ".py",
   "mimetype": "text/x-python",
   "name": "python",
   "nbconvert_exporter": "python",
   "pygments_lexer": "ipython3",
   "version": "3.8.3"
  }
 },
 "nbformat": 4,
 "nbformat_minor": 1
}
