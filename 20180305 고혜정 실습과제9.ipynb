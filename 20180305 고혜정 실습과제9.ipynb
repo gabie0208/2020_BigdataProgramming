{
 "cells": [
  {
   "cell_type": "markdown",
   "metadata": {},
   "source": [
    "### datetime 이용하여 요일 구하기"
   ]
  },
  {
   "cell_type": "code",
   "execution_count": null,
   "metadata": {},
   "outputs": [],
   "source": [
    "%%writefile W_2_.py\n",
    "\n",
    "import sys\n",
    "from datetime import datetime\n",
    "\n",
    "dayname = {0 : '월', 1:'화', 2:'수', 3:'목', 4:'금', 5:'토', 6:'일'}\n",
    "year = int(sys.argv[1])\n",
    "month = int(sys.argv[2])\n",
    "day = int(sys.argv[3])\n",
    "\n",
    "day = datetime(year, month, day)\n",
    "dayofweek = day.weekday()\n",
    "print(dayname[dayofweek])"
   ]
  },
  {
   "cell_type": "code",
   "execution_count": null,
   "metadata": {},
   "outputs": [],
   "source": [
    "%run W_2_.py 2020 11 9"
   ]
  },
  {
   "cell_type": "markdown",
   "metadata": {},
   "source": [
    "### 운영체제 확인"
   ]
  },
  {
   "cell_type": "code",
   "execution_count": null,
   "metadata": {},
   "outputs": [],
   "source": [
    "import os\n",
    "print(os.name)"
   ]
  },
  {
   "cell_type": "markdown",
   "metadata": {},
   "source": [
    "### math module로 수식"
   ]
  },
  {
   "cell_type": "code",
   "execution_count": null,
   "metadata": {},
   "outputs": [],
   "source": [
    "import math\n",
    "\n",
    "a = 2000\n",
    "b = math.log10(20)\n",
    "c = math.sin(2*math.pi)\n",
    "\n",
    "answer = (a/b)*c\n",
    "print(answer)"
   ]
  },
  {
   "cell_type": "code",
   "execution_count": 35,
   "metadata": {},
   "outputs": [
    {
     "name": "stdout",
     "output_type": "stream",
     "text": [
      "1.2766526108099888e+48\n"
     ]
    }
   ],
   "source": [
    "import math\n",
    "\n",
    "a = math.pow(3,100)\n",
    "b = math.log10(300)\n",
    "\n",
    "answer = a*b\n",
    "print(answer)"
   ]
  },
  {
   "cell_type": "code",
   "execution_count": 36,
   "metadata": {},
   "outputs": [
    {
     "name": "stdout",
     "output_type": "stream",
     "text": [
      "1.0000000000000002\n"
     ]
    }
   ],
   "source": [
    "import math\n",
    "\n",
    "a = math.sin(math.pi/4)\n",
    "b = pow(2,(1/2))\n",
    "\n",
    "answer = a*b\n",
    "print(answer)"
   ]
  },
  {
   "cell_type": "markdown",
   "metadata": {},
   "source": [
    "### random module 이용하여 가위바위보 게임"
   ]
  },
  {
   "cell_type": "code",
   "execution_count": 44,
   "metadata": {},
   "outputs": [
    {
     "name": "stdout",
     "output_type": "stream",
     "text": [
      "가위, 바위, 보 중 하나를 선택하시오: 가위\n",
      "플레이어:  가위\n",
      "컴퓨터:  바위\n",
      "컴퓨터가 이겼습니다.\n"
     ]
    }
   ],
   "source": [
    "import random\n",
    "\n",
    "def win_or_lose(a,b):\n",
    "    if player_choice == computer_choice:\n",
    "        print(\"비겼습니다.\")\n",
    "    if player_choice == '가위' and computer_choice == '보':\n",
    "        print(\"당신이 이겼습니다.\")\n",
    "    if player_choice == '바위' and computer_choice == '가위':\n",
    "        print(\"당신이 이겼습니다.\")\n",
    "    if player_choice == '보' and computer_choice == '바위':\n",
    "        print(\"당신이 이겼습니다.\")\n",
    "    else:\n",
    "         print(\"컴퓨터가 이겼습니다.\")\n",
    "    \n",
    "if __name__ == \"__main__\":  \n",
    "    choices = {1:'가위', 2:'바위', 3:'보'}\n",
    "    player_choice = input(\"가위, 바위, 보 중 하나를 선택하시오: \")\n",
    "    computer_choice = choices[random.randint(1, 3)]\n",
    "\n",
    "    print(\"플레이어: \", player_choice)\n",
    "    print(\"컴퓨터: \", computer_choice)\n",
    "    win_or_lose(player, computer)"
   ]
  }
 ],
 "metadata": {
  "kernelspec": {
   "display_name": "Python 3",
   "language": "python",
   "name": "python3"
  },
  "language_info": {
   "codemirror_mode": {
    "name": "ipython",
    "version": 3
   },
   "file_extension": ".py",
   "mimetype": "text/x-python",
   "name": "python",
   "nbconvert_exporter": "python",
   "pygments_lexer": "ipython3",
   "version": "3.8.3"
  }
 },
 "nbformat": 4,
 "nbformat_minor": 4
}
