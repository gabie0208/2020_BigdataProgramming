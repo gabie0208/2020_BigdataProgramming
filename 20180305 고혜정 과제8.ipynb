{
 "cells": [
  {
   "cell_type": "markdown",
   "metadata": {},
   "source": [
    "### 윤년과 요일 찾기의 OOP v.1코드를 자유롭게 확장하시오.\n",
    "\n",
    "윤년과 요일 찾기 외에 다른 기능도 추가하고, property, static method, checktime등을 사용하고, 입력의 형식도 원하는 대로 하고, 날짜로 활용할 수 있는 응용프로그램을 OOP로 작성하는 것입니다. \n",
    "\n",
    "보고서 파일에 자신이 해결하려는 문제들을 정의하고(즉, 어떤 기능을 갖는 코드를 작성하려는지 서술하고), 해결 방법에 대해 서술하고, 결과와 소스코드를 보여주세요.\n",
    "\n",
    "문제를 정의한다는 것은 윤년, 요일 찾기외에 날짜와 연관된 다른 문제들을 만들어 보는 것입니다"
   ]
  },
  {
   "cell_type": "code",
   "execution_count": 79,
   "metadata": {},
   "outputs": [
    {
     "name": "stdout",
     "output_type": "stream",
     "text": [
      "Overwriting classleap.py\n"
     ]
    }
   ],
   "source": [
    "%%writefile classleap.py\n",
    "\n",
    "import time\n",
    "import datetime\n",
    "\n",
    "def input_date():\n",
    "        year = int(input(\"__년도를 입력하세요: \"))\n",
    "        month = int(input(\"__월을 입력하세요: \"))\n",
    "        day = int(input(\"__일을 입력하세요: \"))\n",
    "        return year, month, day\n",
    "\n",
    "class DayName(object):\n",
    "\n",
    "    def __init__(self, year, month, day):\n",
    "        self._year = year\n",
    "        self._month = month\n",
    "        self._day = day\n",
    "        self._name = None\n",
    "        self._month_days = [0, 31,28,31,30,31,30,31,31,30,31,30,31]\n",
    "        self._day_names = [\"일요일\",\"월요일\",\"화요일\",\"수요일\",\"목요일\",\"금요일\",\"토요일\"]\n",
    "        self._find_day_name()\n",
    "\n",
    "    @property\n",
    "    def name(self):\n",
    "        return self._name\n",
    "\n",
    "    def _is_leap(self, year):\n",
    "        if ((year % 4 == 0 and year % 100 != 0) or (year % 400 == 0)):   \n",
    "            return True\n",
    "        else:   \n",
    "            return False\n",
    "\n",
    "    def _find_day_name(self):\n",
    "        total_days = 0\n",
    "        \n",
    "        for i in range (1, self._year):\n",
    "            if (self._is_leap(i)):      \n",
    "                total_days += 366\n",
    "            else:      \n",
    "                total_days += 365\n",
    "    \n",
    "        for i in range (1, self._month):\n",
    "            total_days += self._month_days[i]\n",
    "\n",
    "        if (self._is_leap(year)) and (self._month >= 3):\n",
    "            total_days += 1\n",
    "\n",
    "        elif (self._is_leap(year) == False) and (self._day == 29) and (self._month == 2):\n",
    "            return False\n",
    "\n",
    "        total_days += self._day\n",
    "        self._name = self._day_names[total_days % 7]\n",
    "        \n",
    "class Date(object):\n",
    "    \n",
    "    def __init__(self, year, month, day):\n",
    "        self.year = year\n",
    "        self.month = month\n",
    "        self.day = day\n",
    "    \n",
    "    @staticmethod\n",
    "    def now1():\n",
    "        t = time.localtime()\n",
    "        return Date(t.tm_year, t.tm_mon, t.tm_mday)\n",
    "    \n",
    "    def checkTime(Func):\n",
    "        def newFunc(*args, **kwargs):\n",
    "            start = time.time()\n",
    "            Func(*args, **kwargs)\n",
    "            end = time.time()\n",
    "            print(\"\\n 실행시간: \", end - start)\n",
    "        return newFunc\n",
    "    \n",
    "    @checkTime\n",
    "    def aFunc():\n",
    "        for i in range(1, 10000):\n",
    "            pass\n",
    "        \n",
    "if __name__ == \"__main__\":\n",
    "    year, month, day = input_date()\n",
    "    day_name = DayName(year, month, day)\n",
    "    \n",
    "    if day_name._find_day_name() == False:\n",
    "        print(\"윤년이 아닌 경우 2월에 29일이 없습니다.\")\n",
    "    else:\n",
    "        print(day_name.name)\n",
    "        if day_name._is_leap(year) == True:\n",
    "            print(\"입력하신 %s은 윤년입니다\" % year)\n",
    "    print('\\n')        \n",
    "    a = Date.now1()\n",
    "    print(\"오늘은 {}년 {}월 {}일 입니다.\" .format(a.year, a.month, a.day))\n",
    "    b = Date.aFunc()"
   ]
  },
  {
   "cell_type": "code",
   "execution_count": 80,
   "metadata": {},
   "outputs": [
    {
     "name": "stdout",
     "output_type": "stream",
     "text": [
      "__년도를 입력하세요: 2020\n",
      "__월을 입력하세요: 11\n",
      "__일을 입력하세요: 8\n",
      "일요일\n",
      "입력하신 2020은 윤년입니다\n",
      "\n",
      "\n",
      "오늘은 2020년 11월 9일 입니다.\n",
      "\n",
      " 실행시간:  0.0009891986846923828\n"
     ]
    }
   ],
   "source": [
    "%run classleap.py"
   ]
  },
  {
   "cell_type": "code",
   "execution_count": null,
   "metadata": {},
   "outputs": [],
   "source": []
  }
 ],
 "metadata": {
  "kernelspec": {
   "display_name": "Python 3",
   "language": "python",
   "name": "python3"
  },
  "language_info": {
   "codemirror_mode": {
    "name": "ipython",
    "version": 3
   },
   "file_extension": ".py",
   "mimetype": "text/x-python",
   "name": "python",
   "nbconvert_exporter": "python",
   "pygments_lexer": "ipython3",
   "version": "3.8.3"
  }
 },
 "nbformat": 4,
 "nbformat_minor": 4
}
