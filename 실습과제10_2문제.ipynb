{
 "cells": [
  {
   "cell_type": "markdown",
   "metadata": {},
   "source": [
    "## 실습1\n",
    "점수를 입력 받는 상황에서 허용된 점수 범위를 넘어선 경우 ScoreError를 발생시키는 프로그램을 작성하시오. 허용된 점수 범위는 0점에서 100점 사이이다."
   ]
  },
  {
   "cell_type": "code",
   "execution_count": 1,
   "metadata": {
    "scrolled": true
   },
   "outputs": [
    {
     "name": "stdout",
     "output_type": "stream",
     "text": [
      "점수를 입력하시오: 101\n",
      "점수는 0점에서 100점 사이의 값이어야 합니다.\n"
     ]
    }
   ],
   "source": [
    "class ScoreError(Exception):\n",
    "    def __init__(self, msg):\n",
    "        self._message = msg\n",
    "        \n",
    "def input_score():\n",
    "    score = int(input(\"점수를 입력하시오: \"))\n",
    "    if (score < 0) or (score > 100):\n",
    "        raise ScoreError(\"점수는 0점에서 100점 사이의 값이어야 합니다.\")\n",
    "    else:\n",
    "        return score\n",
    "\n",
    "if __name__ == \"__main__\":\n",
    "    try:\n",
    "        score = input_score()\n",
    "    except ScoreError as e:\n",
    "        print(e.args[0])\n",
    "    else:\n",
    "        print(\"점수는 %d입니다.\" %score)"
   ]
  },
  {
   "cell_type": "markdown",
   "metadata": {},
   "source": [
    "## 실습2\n",
    "리스트에서 값을 읽어 출력하는 프로그램에서 IndexError와 KeyboardInterrupt를 처리하는 프로그램(list_index.py)를 작성해 보시오.\n",
    "\n",
    "리스트 num에는 0에서 10까지의 값이 순차적으로 들어있고, 이를 벗어난 값을 접근할 경우 -1을 출력하도록 작성하시오.\n",
    "\n",
    "프로그램은 무한 루프를 돌면서 수행하다, Ctrl+C가 입력되면 “프로그램을 종료합니다.”라는 메시지와 함께 프로그램을 종료하도록 하시오. :\n",
    "\n",
    "– 이 부분은 jupyter에서는 ValueError로 처리하고, jupyter가 아닌 다른 IDE에서 KeyboardInterrupt 로 실행시켜 보십시오."
   ]
  },
  {
   "cell_type": "code",
   "execution_count": 2,
   "metadata": {},
   "outputs": [
    {
     "name": "stdout",
     "output_type": "stream",
     "text": [
      "Check the value of list num: 5\n",
      "Check the value of list num: 11\n",
      "-1\n"
     ]
    }
   ],
   "source": [
    "num = [0, 1, 2, 3, 4, 5, 6, 7, 8, 9, 10]\n",
    "\n",
    "class IndexError(Exception):\n",
    "    def __str__(self):\n",
    "        return \"Out of range.\"\n",
    "        \n",
    "class ValueError(Exception):\n",
    "    def __str__(self):\n",
    "        return \"Not allowed.\"\n",
    "        \n",
    "def check_index():\n",
    "    index = int(input(\"Check the value of list num: \"))\n",
    "    if index < 0 or index > 10:\n",
    "        raise IndexError\n",
    "    \n",
    "    else:\n",
    "        return index  \n",
    "    \n",
    "if __name__ == \"__main__\":\n",
    "    \n",
    "    try:\n",
    "        while True:\n",
    "            index = check_index()\n",
    "    except IndexError:\n",
    "        print('-1')\n",
    "    except ValueError:\n",
    "        print(\"프로그램이 종료되었습니다.\")\n",
    "    else:\n",
    "        print(\"value is %d\" %index)"
   ]
  },
  {
   "cell_type": "code",
   "execution_count": null,
   "metadata": {},
   "outputs": [],
   "source": []
  },
  {
   "cell_type": "code",
   "execution_count": null,
   "metadata": {},
   "outputs": [],
   "source": []
  }
 ],
 "metadata": {
  "kernelspec": {
   "display_name": "Python 3",
   "language": "python",
   "name": "python3"
  },
  "language_info": {
   "codemirror_mode": {
    "name": "ipython",
    "version": 3
   },
   "file_extension": ".py",
   "mimetype": "text/x-python",
   "name": "python",
   "nbconvert_exporter": "python",
   "pygments_lexer": "ipython3",
   "version": "3.8.3"
  }
 },
 "nbformat": 4,
 "nbformat_minor": 4
}
