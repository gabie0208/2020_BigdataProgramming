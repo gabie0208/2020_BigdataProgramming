{
 "cells": [
  {
   "cell_type": "markdown",
   "metadata": {},
   "source": [
    "## 식별자(identifier) 와 변수명(variable name)\n",
    "\n",
    "- 식별자는 변수, 함수, 클래스, 객체, 모듈 등을 구분 혹은 식별하기 위해 프로그래머가 사용하는 이름\n",
    "- 파이썬 식별자 생성 규칙\n",
    "1. 문자 or _로 시작 (대소문자 구분, 한글 사용 가능)\n",
    "2. 숫자로 시작은 X\n",
    "3. !, @, #, $, % 특수문자나 공백 문자 안 됨\n",
    "4. 길이 제한 없음\n",
    "\n",
    "ex) abc, hello, st1, _world\n",
    "\n",
    "if 잘못된 식별자 사용하면 SyntaxError 발생\n",
    "SyntaxError: invalid syntax"
   ]
  },
  {
   "cell_type": "markdown",
   "metadata": {},
   "source": [
    "## 2. 접근 지정(access modifiers)\n",
    "\n",
    "- 파이썬에서는 객체의 속성이나 메서드의 접근을 제어하는 접근 지정자(public, private, protected)가 없이, 이름 규칙을 통해 처리됨\n",
    "- 접근 지정을 구분하기 위해 _ 밑줄 사용\n",
    "\n",
    "- 만약 밑줄이 없다면, 공개 모드로 객체 외부에서 접근 가능\n",
    "- 밑줄이 1개 : 보호 모드로 객체외부에서 접근 불가능 (비공개 method, 비공개 instance 변수 이름)\n",
    "- 밑줄이 2개 : 비공개 모드로 객체외부 뿐만 아니라 상속받은 객체에서도 접근 불가능 (상속된 class의 method, instance 변수 이름과의 충돌 방지용)"
   ]
  },
  {
   "cell_type": "markdown",
   "metadata": {},
   "source": [
    "## 3. __name__ 변수\n",
    "\n",
    "- 현재 실행되는 모둘의 이름을 담고 있는 내장 변수\n",
    "- 파이썬 인터프리터가 프로그램을 입력 받아 실행하면 __name__을 \"__main__\"으로 설정"
   ]
  },
  {
   "cell_type": "code",
   "execution_count": 1,
   "metadata": {},
   "outputs": [
    {
     "name": "stdout",
     "output_type": "stream",
     "text": [
      "Writing hello_mge.py\n"
     ]
    }
   ],
   "source": [
    "%%writefile hello_mge.py\n",
    "\n",
    "def hello_message():\n",
    "    print(\"Hello World\")\n",
    "    print(\"Sogang University\")\n",
    "    \n",
    "if __name__ == \"__main__\":\n",
    "    hello_message()\n",
    "else:\n",
    "    print(\"Bye\")"
   ]
  },
  {
   "cell_type": "code",
   "execution_count": 2,
   "metadata": {},
   "outputs": [
    {
     "name": "stdout",
     "output_type": "stream",
     "text": [
      "Hello World\n",
      "Sogang University\n"
     ]
    }
   ],
   "source": [
    "%run hello_mge.py"
   ]
  },
  {
   "cell_type": "code",
   "execution_count": 3,
   "metadata": {},
   "outputs": [
    {
     "name": "stdout",
     "output_type": "stream",
     "text": [
      "Bye\n"
     ]
    }
   ],
   "source": [
    "import hello_mge"
   ]
  },
  {
   "cell_type": "markdown",
   "metadata": {},
   "source": [
    "## 4. Commnad line 모듈 실행\n",
    "\n",
    "- 직접 모듈 호출할 경우 __name__의 값이 모듈명이 아닌 __main__으로 처리\n",
    "- 실제 모듈에서 호출된 것과 import 되어 활용하는 부분을 별도로 구현 가능"
   ]
  },
  {
   "cell_type": "code",
   "execution_count": null,
   "metadata": {},
   "outputs": [],
   "source": [
    "if__name__ == \"__main__\":    #직접 모듈 호출시 실행되는 영역\n",
    "    print(safe_sum('a', 1))\n",
    "    print(safe_sum(1, 4))\n",
    "    print(sum(10, 10.4))\n",
    "else:                       #import시 실행되는 영역"
   ]
  },
  {
   "cell_type": "code",
   "execution_count": 6,
   "metadata": {},
   "outputs": [
    {
     "name": "stdout",
     "output_type": "stream",
     "text": [
      "Overwriting NameA.py\n"
     ]
    }
   ],
   "source": [
    "%%writefile NameA.py\n",
    "\n",
    "def func():\n",
    "    print(\"function A.py!\")\n",
    "\n",
    "print(\"top-level A.py\")\n",
    "\n",
    "if __name__ == \"__main__\":\n",
    "    print(\"A.py 직접 실행\")\n",
    "else:\n",
    "    print(\"A.py import 되어 실행\")"
   ]
  },
  {
   "cell_type": "code",
   "execution_count": 7,
   "metadata": {},
   "outputs": [
    {
     "name": "stdout",
     "output_type": "stream",
     "text": [
      "top-level A.py\n",
      "A.py 직접 실행\n"
     ]
    }
   ],
   "source": [
    "%run NameA.py"
   ]
  },
  {
   "cell_type": "code",
   "execution_count": 8,
   "metadata": {},
   "outputs": [
    {
     "name": "stdout",
     "output_type": "stream",
     "text": [
      "top-level A.py\n",
      "A.py import 되어 실행\n",
      "top-level in B.py\n",
      "function A.py!\n",
      "B.py가 직접 실행\n"
     ]
    }
   ],
   "source": [
    "import NameA\n",
    "\n",
    "print(\"top-level in B.py\")\n",
    "NameA.func()\n",
    "\n",
    "if __name__ == \"__main__\":\n",
    "    print(\"B.py가 직접 실행\")\n",
    "else:\n",
    "    print(\"B.py가 import 되어 실행\")"
   ]
  },
  {
   "cell_type": "markdown",
   "metadata": {},
   "source": [
    "## 5. magic command에는 line(%) 과 cell(%%)로 지정해서 처리 가능"
   ]
  },
  {
   "cell_type": "code",
   "execution_count": 9,
   "metadata": {},
   "outputs": [
    {
     "name": "stdout",
     "output_type": "stream",
     "text": [
      "Writing usingNameTest.py\n"
     ]
    }
   ],
   "source": [
    "%%writefile usingNameTest.py\n",
    "\n",
    "if __name__ == \"__main__\":\n",
    "    print(\"This program is being run by itself\")\n",
    "else:\n",
    "    print(\"I am being imported from another module\")"
   ]
  },
  {
   "cell_type": "code",
   "execution_count": 10,
   "metadata": {},
   "outputs": [
    {
     "name": "stdout",
     "output_type": "stream",
     "text": [
      "This program is being run by itself\n"
     ]
    }
   ],
   "source": [
    "%run usingNameTest.py"
   ]
  },
  {
   "cell_type": "code",
   "execution_count": 11,
   "metadata": {},
   "outputs": [
    {
     "name": "stdout",
     "output_type": "stream",
     "text": [
      "I am being imported from another module\n"
     ]
    }
   ],
   "source": [
    "import usingNameTest"
   ]
  },
  {
   "cell_type": "markdown",
   "metadata": {},
   "source": [
    "## 6. 변수명과 데이터\n",
    "\n",
    "- 연산자를 이용해서 데이터에 이름을 붙임"
   ]
  },
  {
   "cell_type": "code",
   "execution_count": 12,
   "metadata": {},
   "outputs": [],
   "source": [
    "x = 10\n",
    "f = 3.14\n",
    "s = \"Hello World\"\n",
    "lst = [1, 2, \"Hello World\", \"sogang univ\"]\n",
    "tpl = (1, 2, 3, 4, 5)\n",
    "polygon = {\"line\":1, \"rectangle\":2, \"triangle\":3}\n",
    "color = {\"red\", \"green\", \"blue\"}"
   ]
  },
  {
   "cell_type": "code",
   "execution_count": 13,
   "metadata": {},
   "outputs": [],
   "source": [
    "x = 100"
   ]
  },
  {
   "cell_type": "code",
   "execution_count": 14,
   "metadata": {},
   "outputs": [
    {
     "data": {
      "text/plain": [
       "100"
      ]
     },
     "execution_count": 14,
     "metadata": {},
     "output_type": "execute_result"
    }
   ],
   "source": [
    "y = x #얕은 복사(shallow copy)\n",
    "y"
   ]
  },
  {
   "cell_type": "code",
   "execution_count": 15,
   "metadata": {},
   "outputs": [
    {
     "data": {
      "text/plain": [
       "'Hello World'"
      ]
     },
     "execution_count": 15,
     "metadata": {},
     "output_type": "execute_result"
    }
   ],
   "source": [
    "s = \"Hello World\"\n",
    "s1 = s\n",
    "s1"
   ]
  },
  {
   "cell_type": "code",
   "execution_count": 16,
   "metadata": {},
   "outputs": [
    {
     "data": {
      "text/plain": [
       "[1, 2, 'Hello World', 'Sogang']"
      ]
     },
     "execution_count": 16,
     "metadata": {},
     "output_type": "execute_result"
    }
   ],
   "source": [
    "lst = [1, 2, \"Hello World\", \"Sogang\"]\n",
    "lst1 = lst\n",
    "lst1"
   ]
  },
  {
   "cell_type": "markdown",
   "metadata": {},
   "source": [
    "## 7. 불변 데이터 타입과 가변 데이터 타입의 변수명\n",
    "\n",
    "- 불변 데이터는 객체를 하나만 생성\n",
    "- 가변 데이터는 정의 시마다 생성\n",
    "\n",
    "- id(object) : 객체의 고유값을 반환하는 함수"
   ]
  },
  {
   "cell_type": "code",
   "execution_count": 17,
   "metadata": {},
   "outputs": [
    {
     "data": {
      "text/plain": [
       "True"
      ]
     },
     "execution_count": 17,
     "metadata": {},
     "output_type": "execute_result"
    }
   ],
   "source": [
    "x = 100 #불변 데이터 정수형\n",
    "y = 100\n",
    "id(x) == id(y)"
   ]
  },
  {
   "cell_type": "code",
   "execution_count": 21,
   "metadata": {},
   "outputs": [
    {
     "data": {
      "text/plain": [
       "False"
      ]
     },
     "execution_count": 21,
     "metadata": {},
     "output_type": "execute_result"
    }
   ],
   "source": [
    "s = \"Hello World\" # 불변 데이터 문자형\n",
    "s1 = \"Hello World\"\n",
    "id(s) == id(s1)"
   ]
  },
  {
   "cell_type": "code",
   "execution_count": 22,
   "metadata": {},
   "outputs": [
    {
     "data": {
      "text/plain": [
       "False"
      ]
     },
     "execution_count": 22,
     "metadata": {},
     "output_type": "execute_result"
    }
   ],
   "source": [
    "lst = [1, 2, \"Hello World\", \"Sogang\"]  #가변 데이터 리스트 유형\n",
    "lst1 = [1, 2, \"Hello World\", \"Sogang\"]\n",
    "id(lst) == id(lst1)"
   ]
  },
  {
   "cell_type": "code",
   "execution_count": 23,
   "metadata": {},
   "outputs": [
    {
     "data": {
      "text/plain": [
       "False"
      ]
     },
     "execution_count": 23,
     "metadata": {},
     "output_type": "execute_result"
    }
   ],
   "source": [
    "x = 257\n",
    "y = 257\n",
    "id(x) == id(y)"
   ]
  },
  {
   "cell_type": "code",
   "execution_count": 24,
   "metadata": {},
   "outputs": [
    {
     "data": {
      "text/plain": [
       "False"
      ]
     },
     "execution_count": 24,
     "metadata": {},
     "output_type": "execute_result"
    }
   ],
   "source": [
    "x1 = \"hello world\"\n",
    "y1 = \"hello world\"\n",
    "id(x1) == id(y1)"
   ]
  },
  {
   "cell_type": "code",
   "execution_count": 25,
   "metadata": {},
   "outputs": [
    {
     "data": {
      "text/plain": [
       "True"
      ]
     },
     "execution_count": 25,
     "metadata": {},
     "output_type": "execute_result"
    }
   ],
   "source": [
    "x = \"hello\"\n",
    "y = \"hello\"\n",
    "id(x) == id(y)"
   ]
  },
  {
   "cell_type": "markdown",
   "metadata": {},
   "source": [
    "## 8. 불변 데이터 타입과 가변 데이터 타입의 연산"
   ]
  },
  {
   "cell_type": "code",
   "execution_count": 27,
   "metadata": {},
   "outputs": [
    {
     "data": {
      "text/plain": [
       "100"
      ]
     },
     "execution_count": 27,
     "metadata": {},
     "output_type": "execute_result"
    }
   ],
   "source": [
    "x = 100\n",
    "y = 100\n",
    "y = y+1\n",
    "x"
   ]
  },
  {
   "cell_type": "code",
   "execution_count": 29,
   "metadata": {},
   "outputs": [
    {
     "data": {
      "text/plain": [
       "101"
      ]
     },
     "execution_count": 29,
     "metadata": {},
     "output_type": "execute_result"
    }
   ],
   "source": [
    "y"
   ]
  },
  {
   "cell_type": "code",
   "execution_count": 30,
   "metadata": {},
   "outputs": [
    {
     "data": {
      "text/plain": [
       "'Hello World'"
      ]
     },
     "execution_count": 30,
     "metadata": {},
     "output_type": "execute_result"
    }
   ],
   "source": [
    "s = \"Hello World\"\n",
    "s1 = \"Hello Wolrd\"\n",
    "s1 = s1 + \"Hello Korea\"\n",
    "s"
   ]
  },
  {
   "cell_type": "code",
   "execution_count": 31,
   "metadata": {},
   "outputs": [
    {
     "data": {
      "text/plain": [
       "'Hello WolrdHello Korea'"
      ]
     },
     "execution_count": 31,
     "metadata": {},
     "output_type": "execute_result"
    }
   ],
   "source": [
    "s1"
   ]
  },
  {
   "cell_type": "code",
   "execution_count": 33,
   "metadata": {},
   "outputs": [
    {
     "data": {
      "text/plain": [
       "[1, 2, 'Hello World', 'Sogang']"
      ]
     },
     "execution_count": 33,
     "metadata": {},
     "output_type": "execute_result"
    }
   ],
   "source": [
    "lst = [1, 2, \"Hello World\", \"Sogang\"]\n",
    "lst1 = [1, 2, \"Hello World\", \"Sogang\"]\n",
    "lst1.append(3)\n",
    "lst"
   ]
  },
  {
   "cell_type": "code",
   "execution_count": 34,
   "metadata": {},
   "outputs": [
    {
     "data": {
      "text/plain": [
       "[1, 2, 'Hello World', 'Sogang', 3]"
      ]
     },
     "execution_count": 34,
     "metadata": {},
     "output_type": "execute_result"
    }
   ],
   "source": [
    "lst1"
   ]
  },
  {
   "cell_type": "markdown",
   "metadata": {},
   "source": [
    "## 9. 얕은 복사와 깊은 복사\n",
    "\n",
    "- 가변 데이터 타입을 가리키는 변수명을 다른 변수명에 대입한 경우 얕은 복사"
   ]
  },
  {
   "cell_type": "code",
   "execution_count": 38,
   "metadata": {},
   "outputs": [
    {
     "data": {
      "text/plain": [
       "[1, 2, 'Hello World', 'Sogang']"
      ]
     },
     "execution_count": 38,
     "metadata": {},
     "output_type": "execute_result"
    }
   ],
   "source": [
    "lst = [1, 2, \"Hello World\", \"Sogang\"]\n",
    "lst1 = lst\n",
    "lst1"
   ]
  },
  {
   "cell_type": "markdown",
   "metadata": {},
   "source": [
    "### 얕은 복사를 이용한 데이터 조작"
   ]
  },
  {
   "cell_type": "code",
   "execution_count": 40,
   "metadata": {},
   "outputs": [
    {
     "data": {
      "text/plain": [
       "[1, 2, 'Hello World', 'Sogang']"
      ]
     },
     "execution_count": 40,
     "metadata": {},
     "output_type": "execute_result"
    }
   ],
   "source": [
    "lst1 = lst\n",
    "lst1"
   ]
  },
  {
   "cell_type": "code",
   "execution_count": 41,
   "metadata": {},
   "outputs": [
    {
     "data": {
      "text/plain": [
       "[1, 2, 'Hello World', 'Sogang', 3]"
      ]
     },
     "execution_count": 41,
     "metadata": {},
     "output_type": "execute_result"
    }
   ],
   "source": [
    "lst1.append(3)\n",
    "lst1"
   ]
  },
  {
   "cell_type": "code",
   "execution_count": 42,
   "metadata": {},
   "outputs": [
    {
     "data": {
      "text/plain": [
       "[1, 2, 'Hello World', 'Sogang', 3]"
      ]
     },
     "execution_count": 42,
     "metadata": {},
     "output_type": "execute_result"
    }
   ],
   "source": [
    "lst"
   ]
  },
  {
   "cell_type": "markdown",
   "metadata": {},
   "source": [
    "### 같은 내용을 가지지만 다른 객체를 가리케게 할 방법\n",
    "\n",
    "1. 매번 가변 데이터를 생성해서 사용\n",
    "2. deepcopy함수 사용"
   ]
  },
  {
   "cell_type": "markdown",
   "metadata": {},
   "source": [
    "## 10. 가변 데이터 내에 가변 데이터를 참조하는 경우\n",
    "\n",
    "- 가변 데이터를 따로 만들어 사용해도 가변 데이터 내에 가변 데이터를 참조하는 경우는 같이 수정됨"
   ]
  },
  {
   "cell_type": "code",
   "execution_count": 43,
   "metadata": {},
   "outputs": [
    {
     "data": {
      "text/plain": [
       "False"
      ]
     },
     "execution_count": 43,
     "metadata": {},
     "output_type": "execute_result"
    }
   ],
   "source": [
    "x = [1, 2, 3]\n",
    "lst = [1, 2 ,x]\n",
    "lst1 = [1, 2, x]\n",
    "id(lst) == id(lst1)"
   ]
  },
  {
   "cell_type": "code",
   "execution_count": 44,
   "metadata": {},
   "outputs": [
    {
     "data": {
      "text/plain": [
       "[1, 2, [1, 2, 3]]"
      ]
     },
     "execution_count": 44,
     "metadata": {},
     "output_type": "execute_result"
    }
   ],
   "source": [
    "lst"
   ]
  },
  {
   "cell_type": "code",
   "execution_count": 45,
   "metadata": {},
   "outputs": [
    {
     "data": {
      "text/plain": [
       "[1, 2, [1, 2, 3]]"
      ]
     },
     "execution_count": 45,
     "metadata": {},
     "output_type": "execute_result"
    }
   ],
   "source": [
    "lst1"
   ]
  },
  {
   "cell_type": "code",
   "execution_count": 47,
   "metadata": {},
   "outputs": [
    {
     "data": {
      "text/plain": [
       "[1, 2, [1, 3, 3]]"
      ]
     },
     "execution_count": 47,
     "metadata": {},
     "output_type": "execute_result"
    }
   ],
   "source": [
    "lst1[2][1] = 3\n",
    "lst1"
   ]
  },
  {
   "cell_type": "code",
   "execution_count": 48,
   "metadata": {},
   "outputs": [
    {
     "data": {
      "text/plain": [
       "[1, 2, [1, 3, 3]]"
      ]
     },
     "execution_count": 48,
     "metadata": {},
     "output_type": "execute_result"
    }
   ],
   "source": [
    "lst"
   ]
  },
  {
   "cell_type": "markdown",
   "metadata": {},
   "source": [
    "## 11. deepcopy를 이용한 복사\n",
    "\n",
    "- 원본 데이터와 복사본 데이터를 확실히 분리 관리하기 위해"
   ]
  },
  {
   "cell_type": "code",
   "execution_count": 60,
   "metadata": {},
   "outputs": [
    {
     "data": {
      "text/plain": [
       "False"
      ]
     },
     "execution_count": 60,
     "metadata": {},
     "output_type": "execute_result"
    }
   ],
   "source": [
    "from copy import deepcopy\n",
    "\n",
    "x = [1, 2, 3]\n",
    "lst = [1, 2, x]\n",
    "lst1 = deepcopy(lst)\n",
    "id(lst) == id(lst1)"
   ]
  },
  {
   "cell_type": "code",
   "execution_count": 61,
   "metadata": {},
   "outputs": [
    {
     "data": {
      "text/plain": [
       "[1, 2, [1, 2, 3]]"
      ]
     },
     "execution_count": 61,
     "metadata": {},
     "output_type": "execute_result"
    }
   ],
   "source": [
    "lst1"
   ]
  },
  {
   "cell_type": "code",
   "execution_count": 62,
   "metadata": {},
   "outputs": [
    {
     "data": {
      "text/plain": [
       "[1, 2, [1, 3, 3]]"
      ]
     },
     "execution_count": 62,
     "metadata": {},
     "output_type": "execute_result"
    }
   ],
   "source": [
    "lst1[2][1] = 3\n",
    "lst1"
   ]
  },
  {
   "cell_type": "code",
   "execution_count": 63,
   "metadata": {},
   "outputs": [
    {
     "data": {
      "text/plain": [
       "[1, 2, [1, 2, 3]]"
      ]
     },
     "execution_count": 63,
     "metadata": {},
     "output_type": "execute_result"
    }
   ],
   "source": [
    "lst"
   ]
  },
  {
   "cell_type": "markdown",
   "metadata": {},
   "source": []
  }
 ],
 "metadata": {
  "kernelspec": {
   "display_name": "Python 3",
   "language": "python",
   "name": "python3"
  },
  "language_info": {
   "codemirror_mode": {
    "name": "ipython",
    "version": 3
   },
   "file_extension": ".py",
   "mimetype": "text/x-python",
   "name": "python",
   "nbconvert_exporter": "python",
   "pygments_lexer": "ipython3",
   "version": "3.8.3"
  }
 },
 "nbformat": 4,
 "nbformat_minor": 4
}
