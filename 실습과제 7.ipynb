{
 "cells": [
  {
   "cell_type": "code",
   "execution_count": null,
   "metadata": {},
   "outputs": [],
   "source": [
    "class Date:\n",
    "    \n",
    "    today = \"date: \"\n",
    "    \n",
    "    def __init__(self, today):\n",
    "        self.today = self.today + today\n",
    "        \n",
    "    @staticmethod\n",
    "    def now():\n",
    "        return Date(\"today\")\n",
    "    \n",
    "    @staticmethod\n",
    "    def yesterday(today):\n",
    "        year, month, day = today.split()\n",
    "        day = int(day) - 1\n",
    "        return Date (\"{} {} {}\".format(year, month, day))\n",
    "    \n",
    "    def show(self):\n",
    "        print(self.today)\n",
    "        \n",
    "        \n",
    "a = Date(\"2020, 10, 21\")\n",
    "a.show()\n",
    "b = Date.now()\n",
    "b.show()\n",
    "c = Date.yesterday(\"2020, 10, 21\")\n",
    "c.show()"
   ]
  },
  {
   "cell_type": "code",
   "execution_count": null,
   "metadata": {},
   "outputs": [],
   "source": [
    "a = Date(\"2020, 10, 21\")\n",
    "a.show()\n",
    "b = Date.now()\n",
    "print(b.today)\n",
    "c = Date.yesterday(\"2020, 10, 21\")\n",
    "print(c.today)"
   ]
  },
  {
   "cell_type": "code",
   "execution_count": null,
   "metadata": {},
   "outputs": [],
   "source": []
  }
 ],
 "metadata": {
  "kernelspec": {
   "display_name": "Python 3",
   "language": "python",
   "name": "python3"
  },
  "language_info": {
   "codemirror_mode": {
    "name": "ipython",
    "version": 3
   },
   "file_extension": ".py",
   "mimetype": "text/x-python",
   "name": "python",
   "nbconvert_exporter": "python",
   "pygments_lexer": "ipython3",
   "version": "3.8.3"
  }
 },
 "nbformat": 4,
 "nbformat_minor": 4
}
