{
 "cells": [
  {
   "cell_type": "code",
   "execution_count": 1,
   "metadata": {},
   "outputs": [
    {
     "name": "stdout",
     "output_type": "stream",
     "text": [
      "Seo Maria's homepage\n"
     ]
    }
   ],
   "source": [
    "import re\n",
    "\n",
    "data = \"\"\"\n",
    "<HEAD>\n",
    "<TITLE>Seo Maria's homepage</TITLE>\n",
    "</HEAD>\n",
    "\"\"\"\n",
    "\n",
    "p = re.compile('(?<=\\<TITLE\\>).*(?=\\</TITLE>)', re.I)\n",
    "\n",
    "result = re.search(p, data)\n",
    "result.group()\n",
    "\n",
    "for line in data.split(\"\\n\"):\n",
    "    m = p.search(line)\n",
    "    if(m is not None):\n",
    "        print(m.group())"
   ]
  },
  {
   "cell_type": "code",
   "execution_count": 2,
   "metadata": {},
   "outputs": [
    {
     "name": "stdout",
     "output_type": "stream",
     "text": [
      "foo.bar sendmail.cf checksum.exe "
     ]
    }
   ],
   "source": [
    "import re\n",
    "\n",
    "list =[\"foo.bar\", \"autoexec.bat\", \"sendmail.cf\", \"checksum.exe\"]\n",
    "\n",
    "p = re.compile(r'\\w+[.](?!bat)\\w+')\n",
    "\n",
    "for i in list:\n",
    "    m = p.match(i)\n",
    "    if(m is not None):\n",
    "        print(i, end = ' ')"
   ]
  },
  {
   "cell_type": "code",
   "execution_count": 3,
   "metadata": {},
   "outputs": [
    {
     "name": "stdout",
     "output_type": "stream",
     "text": [
      "foo.bar sendmail.cf "
     ]
    }
   ],
   "source": [
    "import re\n",
    "\n",
    "list =[\"foo.bar\", \"autoexec.bat\", \"sendmail.cf\", \"checksum.exe\"]\n",
    "\n",
    "p = re.compile(r'\\w+[.](?!bat|exe)\\w+')\n",
    "\n",
    "for i in list:\n",
    "    m = p.match(i)\n",
    "    if(m is not None):\n",
    "        print(i, end = ' ')"
   ]
  },
  {
   "cell_type": "code",
   "execution_count": null,
   "metadata": {},
   "outputs": [],
   "source": []
  }
 ],
 "metadata": {
  "kernelspec": {
   "display_name": "Python 3",
   "language": "python",
   "name": "python3"
  },
  "language_info": {
   "codemirror_mode": {
    "name": "ipython",
    "version": 3
   },
   "file_extension": ".py",
   "mimetype": "text/x-python",
   "name": "python",
   "nbconvert_exporter": "python",
   "pygments_lexer": "ipython3",
   "version": "3.8.3"
  }
 },
 "nbformat": 4,
 "nbformat_minor": 4
}
