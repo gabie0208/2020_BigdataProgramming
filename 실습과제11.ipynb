{
 "cells": [
  {
   "cell_type": "code",
   "execution_count": 1,
   "metadata": {},
   "outputs": [],
   "source": [
    "fp = open('ban_stu.txt', 'wt', encoding = 'cp949')\n",
    "fp.write('2 Alice Paul David Bob\\n')\n",
    "fp.write('4 Cindy Stella Bill\\n')\n",
    "fp.write('1 Henry Jenny Jessica Erin Tim\\n')\n",
    "fp.write('3 John Joe Tom\\n')\n",
    "fp.close()"
   ]
  },
  {
   "cell_type": "code",
   "execution_count": 2,
   "metadata": {},
   "outputs": [
    {
     "name": "stdout",
     "output_type": "stream",
     "text": [
      "{'2': ['Alice', 'Paul', 'David', 'Bob'], '4': ['Cindy', 'Stella', 'Bill'], '1': ['Henry', 'Jenny', 'Jessica', 'Erin', 'Tim'], '3': ['John', 'Joe', 'Tom']}\n"
     ]
    }
   ],
   "source": [
    "f = open('ban_stu.txt', 'r')\n",
    "\n",
    "dict = {}\n",
    "\n",
    "for line in f:\n",
    "    items = line.split()\n",
    "    key, values = items[0], items[1:]\n",
    "    dict[key] = values\n",
    "    \n",
    "print(dict)"
   ]
  },
  {
   "cell_type": "code",
   "execution_count": null,
   "metadata": {},
   "outputs": [],
   "source": []
  }
 ],
 "metadata": {
  "kernelspec": {
   "display_name": "Python 3",
   "language": "python",
   "name": "python3"
  },
  "language_info": {
   "codemirror_mode": {
    "name": "ipython",
    "version": 3
   },
   "file_extension": ".py",
   "mimetype": "text/x-python",
   "name": "python",
   "nbconvert_exporter": "python",
   "pygments_lexer": "ipython3",
   "version": "3.8.3"
  }
 },
 "nbformat": 4,
 "nbformat_minor": 4
}
