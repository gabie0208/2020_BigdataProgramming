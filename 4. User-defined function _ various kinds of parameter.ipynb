{
 "cells": [
  {
   "cell_type": "markdown",
   "metadata": {},
   "source": [
    "## 4. 사용자 정의 함수 user defined function\n",
    "\n",
    "- 함수를 작성하는 이유\n",
    "- 1. 특정의 기능을 수행하는 코드들을 하나의 묶음으로 사용하기 위해\n",
    "- 2. 동일한 기능을 수행하는 코드들의 재사용성을 높이고 코드의 통일된 관리를 위해\n",
    "\n",
    "- 함수 문법\n",
    "- def 함수명([인자1, 인자2, ...]):\n",
    "-     수행할 문장들\n",
    "-    [return 반환값]"
   ]
  },
  {
   "cell_type": "code",
   "execution_count": 1,
   "metadata": {},
   "outputs": [
    {
     "name": "stdout",
     "output_type": "stream",
     "text": [
      "Writing hello_function.py\n"
     ]
    }
   ],
   "source": [
    "%%writefile hello_function.py\n",
    "\n",
    "def hello_message():\n",
    "    for i in range(3):\n",
    "        print(\"Hello World\")\n",
    "    print(\"Sogang Univ\")\n",
    "for i in range(4):\n",
    "    hello_message()"
   ]
  },
  {
   "cell_type": "code",
   "execution_count": 3,
   "metadata": {},
   "outputs": [
    {
     "name": "stdout",
     "output_type": "stream",
     "text": [
      "Hello World\n",
      "Hello World\n",
      "Hello World\n",
      "Sogang Univ\n",
      "Hello World\n",
      "Hello World\n",
      "Hello World\n",
      "Sogang Univ\n",
      "Hello World\n",
      "Hello World\n",
      "Hello World\n",
      "Sogang Univ\n",
      "Hello World\n",
      "Hello World\n",
      "Hello World\n",
      "Sogang Univ\n"
     ]
    }
   ],
   "source": [
    "%run hello_function.py"
   ]
  },
  {
   "cell_type": "markdown",
   "metadata": {},
   "source": [
    "## 5. 함수의 호출과 흐름\n",
    "\n",
    "- 함수가 호출되는 시점에 실행의 흐름은 함수로 넘어감\n",
    "- 그리고 함수의 작업이 끝나면 실행의 흐름은 다시 호출된 곳으로 넘어감"
   ]
  },
  {
   "cell_type": "markdown",
   "metadata": {},
   "source": [
    "## 6. 함수의 인자와 반환값\n",
    "\n",
    "- 함수를 실행할 때 외부롤부터 인자를 받아서 처리 가능\n",
    "- 외부로부터 넘어온 값은 함수 내부에서 자유롭게 사용 가능\n",
    "- 함수는 작업을 마친 후 호출한 지점으로 돌아갈 때 반환값을 되돌려줌\n",
    "\n",
    "### return문\n",
    "\n",
    "- return : 제어를 되돌리고 none값 반환\n",
    "- return 반환값 : 제어를 되돌리고 반환값을 반환"
   ]
  },
  {
   "cell_type": "code",
   "execution_count": 4,
   "metadata": {},
   "outputs": [
    {
     "name": "stdout",
     "output_type": "stream",
     "text": [
      "Overwriting hello_mge.py\n"
     ]
    }
   ],
   "source": [
    "%%writefile hello_mge.py\n",
    "\n",
    "def hello_message(repeat_count):\n",
    "    for item in range(repeat_count):\n",
    "        print(\"Hello World\")\n",
    "    print(\"Sogang univ\")\n",
    "    \n",
    "if __name__ == \"__main__\":\n",
    "    hello_message(3)\n",
    "    hello_message(4)\n",
    "    hello_message(5)"
   ]
  },
  {
   "cell_type": "code",
   "execution_count": 5,
   "metadata": {},
   "outputs": [
    {
     "name": "stdout",
     "output_type": "stream",
     "text": [
      "Hello World\n",
      "Hello World\n",
      "Hello World\n",
      "Sogang univ\n",
      "Hello World\n",
      "Hello World\n",
      "Hello World\n",
      "Hello World\n",
      "Sogang univ\n",
      "Hello World\n",
      "Hello World\n",
      "Hello World\n",
      "Hello World\n",
      "Hello World\n",
      "Sogang univ\n"
     ]
    }
   ],
   "source": [
    "%run hello_mge.py"
   ]
  },
  {
   "cell_type": "markdown",
   "metadata": {},
   "source": [
    "## 인자 1개 사용하는 함수"
   ]
  },
  {
   "cell_type": "code",
   "execution_count": 6,
   "metadata": {},
   "outputs": [
    {
     "name": "stdout",
     "output_type": "stream",
     "text": [
      "Writing circle_func1.py\n"
     ]
    }
   ],
   "source": [
    "%%writefile circle_func1.py\n",
    "\n",
    "def circle_area(radius):\n",
    "    area = 3.14 * (radius **2)\n",
    "    return area\n",
    "\n",
    "if __name__ == \"__main__\":\n",
    "    print(\"radius: %d, area: %.2f\" %(3, circle_area(3)))\n",
    "    print(\"radius: %d, area: %.2f\" %(4, circle_area(4)))"
   ]
  },
  {
   "cell_type": "code",
   "execution_count": 7,
   "metadata": {},
   "outputs": [
    {
     "name": "stdout",
     "output_type": "stream",
     "text": [
      "radius: 3, width: 28.26\n",
      "radius: 4, width: 50.24\n"
     ]
    }
   ],
   "source": [
    "%run circle_func1.py"
   ]
  },
  {
   "cell_type": "markdown",
   "metadata": {},
   "source": [
    "## 인자 2개 사용하는 함수"
   ]
  },
  {
   "cell_type": "code",
   "execution_count": 10,
   "metadata": {},
   "outputs": [
    {
     "name": "stdout",
     "output_type": "stream",
     "text": [
      "Overwriting circle_func2.py\n"
     ]
    }
   ],
   "source": [
    "%%writefile circle_func2.py\n",
    "\n",
    "def circle_area(radius, pi):\n",
    "    area = pi * (radius**2)\n",
    "    return area\n",
    "\n",
    "if __name__ == \"__main__\":\n",
    "    print(\"radius: 3, PI: 3.14, area: \", circle_area(3, 3.14))\n",
    "    print(\"radius: 4, PI: 3.1415, area: \", circle_area(3, 3.1415))"
   ]
  },
  {
   "cell_type": "code",
   "execution_count": 11,
   "metadata": {},
   "outputs": [
    {
     "name": "stdout",
     "output_type": "stream",
     "text": [
      "radius: 3, PI: 3.14, area:  28.26\n",
      "radius: 4, PI: 3.1415, area:  28.273500000000002\n"
     ]
    }
   ],
   "source": [
    "%run circle_func2.py"
   ]
  },
  {
   "cell_type": "markdown",
   "metadata": {},
   "source": [
    "## 2개의 반환값을 return하는 함수\n",
    "\n",
    "- 파이썬에서는 함수의 결과로 여러개의 값을 반환할 수 있음\n",
    "- return 다음에 적어주며, 반환값을 튜플의 형태로 돌려줌\n",
    "- 튜플을 그대로 이용할 수 도 있고, unpacking해서 각 요소를 구해 이용 가능"
   ]
  },
  {
   "cell_type": "code",
   "execution_count": 12,
   "metadata": {},
   "outputs": [
    {
     "name": "stdout",
     "output_type": "stream",
     "text": [
      "Writing returnTest.py\n"
     ]
    }
   ],
   "source": [
    "%%writefile returnTest.py\n",
    "\n",
    "def circle_area_circumference(radius, pi):\n",
    "    area = pi * (radius **2)\n",
    "    circumference = 2 * pi * radius\n",
    "    return area, circumference\n",
    "\n",
    "if __name__ == \"__main__\":\n",
    "    result = circle_area_circumference(3, 3.14)\n",
    "    print(\"radius: \", 3, \"area and circumference: \", result)\n",
    "    res1, res2 = circle_area_circumference(3, 3.1415)\n",
    "    print(\"radius: \", 3, \"area: \", res1, \"circumference: \", res2)"
   ]
  },
  {
   "cell_type": "code",
   "execution_count": 13,
   "metadata": {},
   "outputs": [
    {
     "name": "stdout",
     "output_type": "stream",
     "text": [
      "radius:  3 area and circumference:  (28.26, 18.84)\n",
      "radius:  3 area:  28.273500000000002 circumference:  18.849\n"
     ]
    }
   ],
   "source": [
    "%run returnTest.py"
   ]
  },
  {
   "cell_type": "markdown",
   "metadata": {},
   "source": [
    "## 7. 함수의 인자 전달과 가변 데이터\n",
    "\n",
    "### 불변 데이터와 가변데이터의 인자 전달"
   ]
  },
  {
   "cell_type": "code",
   "execution_count": 14,
   "metadata": {},
   "outputs": [
    {
     "name": "stdout",
     "output_type": "stream",
     "text": [
      "Writing args1.py\n"
     ]
    }
   ],
   "source": [
    "#불변 데이터인 정수의 경우, 새 값을 생성 후 이를 num1 이 가리키지만,\n",
    "#가변 데이터인 리스트의 경우, 내용이 바뀜\n",
    "\n",
    "%%writefile args1.py\n",
    "\n",
    "def add_one(num1, lst1):\n",
    "    num1 = num1+1\n",
    "    lst1.append(1)\n",
    "num = 1\n",
    "lst = [1 ,2, \"Hello Sogang\"]\n",
    "print(num, lst)\n",
    "\n",
    "add_one(num, lst)\n",
    "print(num, lst)"
   ]
  },
  {
   "cell_type": "code",
   "execution_count": 15,
   "metadata": {},
   "outputs": [
    {
     "name": "stdout",
     "output_type": "stream",
     "text": [
      "1 [1, 2, 'Hello Sogang']\n",
      "1 [1, 2, 'Hello Sogang', 1]\n"
     ]
    }
   ],
   "source": [
    "%run args1.py"
   ]
  },
  {
   "cell_type": "markdown",
   "metadata": {},
   "source": [
    "### 가변 데이터를 함수의 인자로 넘길 때, 원본 데이터를 보존하기 위해"
   ]
  },
  {
   "cell_type": "code",
   "execution_count": 16,
   "metadata": {},
   "outputs": [
    {
     "name": "stdout",
     "output_type": "stream",
     "text": [
      "Writing args2.py\n"
     ]
    }
   ],
   "source": [
    "%%writefile args2.py\n",
    "\n",
    "import copy\n",
    "\n",
    "def add_one(num1, lst1):\n",
    "    num1 = num1 + 1\n",
    "    temp_lst = copy.deepcopy(lst1) #deepcopy important!!!!!\n",
    "    temp_lst.append(1)\n",
    "    \n",
    "num = 1\n",
    "lst = [1 ,2, \"Hello Sogang\"]\n",
    "print(num, lst)\n",
    "\n",
    "add_one(num, lst)\n",
    "print(num, lst)"
   ]
  },
  {
   "cell_type": "code",
   "execution_count": 17,
   "metadata": {},
   "outputs": [
    {
     "name": "stdout",
     "output_type": "stream",
     "text": [
      "1 [1, 2, 'Hello Sogang']\n",
      "1 [1, 2, 'Hello Sogang']\n"
     ]
    }
   ],
   "source": [
    "%run args2.py"
   ]
  },
  {
   "cell_type": "markdown",
   "metadata": {},
   "source": [
    "## 8. 일반 인자, 기본 인자, 키워드 인자 그리고 가변 인자\n",
    "\n",
    "- 일반 인자는 호출 시에 위치가 중요 (positional argument)\n",
    "- 함수 호출 시에 넣어준 인자 순서대로 인자값이 함수에 전달\n",
    "- 파이썬에서는 일반 인자 이외에도 특별한 인자 전달 방식을 제공 (기본인자, 키워드인자, 가변인자, 정의되지 않은 인자)"
   ]
  },
  {
   "cell_type": "markdown",
   "metadata": {},
   "source": [
    "### Default parameter 기본인자\n",
    "\n",
    "- 함수를 호출할 때 인자의 값을 설정해주지 않아도 기본 값이 할당되도록 하는 인자\n",
    "- 기본 인자는 일반 인자 뒤에 위치"
   ]
  },
  {
   "cell_type": "code",
   "execution_count": 18,
   "metadata": {},
   "outputs": [
    {
     "name": "stdout",
     "output_type": "stream",
     "text": [
      "Writing circle_default_parameter.py\n"
     ]
    }
   ],
   "source": [
    "%%writefile circle_default_parameter.py\n",
    "\n",
    "def circle_area(radius, pi=3.14): #PI IS DEFAULT PARAMETER\n",
    "    area = pi * (radius**2)\n",
    "    return area\n",
    "if __name__ == \"__main__\":\n",
    "    print(\"area: %.2f\" %circle_area(3))\n",
    "    print(\"area: %.4f\" %circle_area(3, 3.1415))"
   ]
  },
  {
   "cell_type": "code",
   "execution_count": 19,
   "metadata": {},
   "outputs": [
    {
     "name": "stdout",
     "output_type": "stream",
     "text": [
      "area: 28.26\n",
      "area: 28.2735\n"
     ]
    }
   ],
   "source": [
    "%run circle_default_parameter.py"
   ]
  },
  {
   "cell_type": "markdown",
   "metadata": {},
   "source": [
    "### Keyword parameter 키워드 인자\n",
    "\n",
    "- 함수에 인자값을 전달할 때 인자의 이름으로 인자 값을 전달\n",
    "- 키워드 인자는 일반 인자 뒤에 옴\n",
    "- 키워드 인자 이후에는 순서에 의한 인자 매칭 불가 !!!!!!!"
   ]
  },
  {
   "cell_type": "code",
   "execution_count": 20,
   "metadata": {},
   "outputs": [
    {
     "name": "stdout",
     "output_type": "stream",
     "text": [
      "Writing circle_keyword_parameter.py\n"
     ]
    }
   ],
   "source": [
    "%%writefile circle_keyword_parameter.py\n",
    "\n",
    "def circle_area(radius, pi):\n",
    "    area = pi*(radius**2)\n",
    "    return area\n",
    "if __name__ == \"__main__\":\n",
    "    print(\"radius: \", 3, \"area: \", circle_area(3, 3.14))\n",
    "    print(\"radius: \", 3, \"area: \", circle_area(3, pi = 3.14))\n",
    "    print(\"radius: \", 3, \"area: \", circle_area(radius = 3, pi = 3.14))\n",
    "    print(\"radius: \", 3, \"area: \", circle_area(pi = 3, radius = 3.14))"
   ]
  },
  {
   "cell_type": "code",
   "execution_count": 21,
   "metadata": {},
   "outputs": [
    {
     "name": "stdout",
     "output_type": "stream",
     "text": [
      "radius:  3 area:  28.26\n",
      "radius:  3 area:  28.26\n",
      "radius:  3 area:  28.26\n",
      "radius:  3 area:  29.5788\n"
     ]
    }
   ],
   "source": [
    "%run circle_keyword_parameter.py"
   ]
  },
  {
   "cell_type": "markdown",
   "metadata": {},
   "source": [
    "### keyword 인자로 radius를 전달하여, 이후에는 일반 인자를 못 쓰는 경우"
   ]
  },
  {
   "cell_type": "code",
   "execution_count": 26,
   "metadata": {},
   "outputs": [
    {
     "name": "stdout",
     "output_type": "stream",
     "text": [
      "Overwriting circle_wrong_keyword_parameter.py\n"
     ]
    }
   ],
   "source": [
    "%%writefile circle_wrong_keyword_parameter.py\n",
    "\n",
    "def circle_area(radius, pi):\n",
    "    area = pi * (radius ** 2)\n",
    "    return area\n",
    "\n",
    "if __name__ == \"__main__\":\n",
    "    print(\"반지름:\", 3, \"면적:\", circle_area(radius = 3, 3.1415))\n",
    "    \n",
    "# 먼저 키워드 인자로 radius가 왔는데, 그 뒤에 일반 인자가 올 수 없음"
   ]
  },
  {
   "cell_type": "code",
   "execution_count": 27,
   "metadata": {},
   "outputs": [
    {
     "ename": "SyntaxError",
     "evalue": "positional argument follows keyword argument (circle_wrong_keyword_parameter.py, line 7)",
     "output_type": "error",
     "traceback": [
      "\u001b[1;36m  File \u001b[1;32m\"C:\\Users\\hjhjh\\Desktop\\기빅프 수업 노트\\circle_wrong_keyword_parameter.py\"\u001b[1;36m, line \u001b[1;32m7\u001b[0m\n\u001b[1;33m    print(\"반지름:\", 3, \"면적:\", circle_area(radius = 3, 3.1415))\u001b[0m\n\u001b[1;37m                                                            \n^\u001b[0m\n\u001b[1;31mSyntaxError\u001b[0m\u001b[1;31m:\u001b[0m positional argument follows keyword argument\n"
     ]
    }
   ],
   "source": [
    "%run circle_wrong_keyword_parameter.py"
   ]
  },
  {
   "cell_type": "markdown",
   "metadata": {},
   "source": [
    "### variable parameter 가변인자\n",
    "\n",
    "- 함수를 정의할 때, 함수 앞에 * 을 붙이면 정해지지 않은 수의 인자를 받겠다는 뜻\n",
    "- 가변 인자 리스트는 입력 받은 인자를 *튜플*에 저장"
   ]
  },
  {
   "cell_type": "code",
   "execution_count": 28,
   "metadata": {},
   "outputs": [
    {
     "name": "stdout",
     "output_type": "stream",
     "text": [
      "Writing circle_variable_parameter.py\n"
     ]
    }
   ],
   "source": [
    "%%writefile circle_variable_parameter.py\n",
    "\n",
    "def circle_area(pi, *radiuses):\n",
    "    areas = []\n",
    "    \n",
    "    for radius in radiuses:\n",
    "        area = pi * (radius **2)\n",
    "        areas.append(area)\n",
    "    return areas\n",
    "\n",
    "if __name__ == \"__main__\":\n",
    "    print(circle_area(3.14, 3, 4, 5))\n",
    "    print(circle_area(3.14, 6, 7))"
   ]
  },
  {
   "cell_type": "code",
   "execution_count": 29,
   "metadata": {},
   "outputs": [
    {
     "name": "stdout",
     "output_type": "stream",
     "text": [
      "[28.26, 50.24, 78.5]\n",
      "[113.04, 153.86]\n"
     ]
    }
   ],
   "source": [
    "%run circle_variable_parameter.py"
   ]
  },
  {
   "cell_type": "markdown",
   "metadata": {},
   "source": [
    "### locals()는 현재의 로컬 변수들을 사전 형태로 돌려주는 내장 함수"
   ]
  },
  {
   "cell_type": "code",
   "execution_count": 30,
   "metadata": {},
   "outputs": [
    {
     "name": "stdout",
     "output_type": "stream",
     "text": [
      "Writing addAddi.py\n"
     ]
    }
   ],
   "source": [
    "%%writefile addAddi.py\n",
    "\n",
    "def add5(x, y, *args):\n",
    "    print(\"local variables\", locals())\n",
    "    sum = x + y\n",
    "    for i in args:\n",
    "        sum += i\n",
    "    return sum\n",
    "\n",
    "print(add5(10, 20, 3, 4, 5))\n",
    "print(add5(10, 20))"
   ]
  },
  {
   "cell_type": "code",
   "execution_count": 32,
   "metadata": {},
   "outputs": [
    {
     "name": "stdout",
     "output_type": "stream",
     "text": [
      "local variables {'x': 10, 'y': 20, 'args': (3, 4, 5)}\n",
      "42\n",
      "local variables {'x': 10, 'y': 20, 'args': ()}\n",
      "30\n"
     ]
    }
   ],
   "source": [
    "%run addAddi.py"
   ]
  },
  {
   "cell_type": "markdown",
   "metadata": {},
   "source": [
    "### 직접 튜플 형태로 넘겨주면 더 이상 가변인자 아니므로 * 를 붙이면 안 됨"
   ]
  },
  {
   "cell_type": "code",
   "execution_count": 7,
   "metadata": {},
   "outputs": [
    {
     "name": "stdout",
     "output_type": "stream",
     "text": [
      "Overwriting circle_not_variable_parameter.py\n"
     ]
    }
   ],
   "source": [
    "%%writefile circle_not_variable_parameter.py\n",
    "\n",
    "def circle_area(pi, radiuses):\n",
    "    areas = []\n",
    "    for radius in radiuses:\n",
    "        area = pi*(radius**2)\n",
    "        areas.append(area)\n",
    "    return areas\n",
    "\n",
    "if __name__ == \"__main__\":\n",
    "    print(circle_area(3.14, (3, 4, 5)))\n",
    "    print(circle_area(3.14, (6, 7)))"
   ]
  },
  {
   "cell_type": "code",
   "execution_count": 8,
   "metadata": {},
   "outputs": [
    {
     "name": "stdout",
     "output_type": "stream",
     "text": [
      "[28.26, 50.24, 78.5]\n",
      "[113.04, 153.86]\n"
     ]
    }
   ],
   "source": [
    "%run circle_not_variable_parameter.py"
   ]
  },
  {
   "cell_type": "markdown",
   "metadata": {},
   "source": [
    "### undefined parameter 정의되지 않은 인자\n",
    "\n",
    "- 파이썬에서는 함수에 정의되지 않은 인자들을 함수에 전달할 수 있음\n",
    "- 정의되지 않은 인자는 *사전 형식*으로 전달됨\n",
    "- 함수에서 정의되지 않은 인자를 받을 때는 인자 앞에 ** 을 붙임\n",
    "#### 일반 인자, 가변 인자, 정의되지 않은 인자가 있는 경우, \n",
    "#### 함수에서는 반드시 일반 인자 < 가변인자 < 정의되지 않은 인자 순서대로 인자들을 전달하고 받아야 함 !!!!!"
   ]
  },
  {
   "cell_type": "code",
   "execution_count": 40,
   "metadata": {},
   "outputs": [
    {
     "name": "stdout",
     "output_type": "stream",
     "text": [
      "Writing circle_undefined_parameter.py\n"
     ]
    }
   ],
   "source": [
    "%%writefile circle_undefined_parameter.py\n",
    "\n",
    "def circle_area(radius, *pi, **info):\n",
    "    for item in pi:\n",
    "        area = item*(radius**2)\n",
    "        print(\"radius: \", radius, \"pi: \", item, \"area: \", round(area, 2))\n",
    "    for key in info:\n",
    "        print(key, \":\", info[key])\n",
    "\n",
    "if __name__ == \"__main__\":\n",
    "    circle_area(3, 3.14, 3.1415, line_color = \"blue\", area_color = \"yellow\")\n",
    "    print()\n",
    "    circle_area(5, 3.14, 3.1415, polygon_name = \"circle\", value = \"area\")"
   ]
  },
  {
   "cell_type": "code",
   "execution_count": 41,
   "metadata": {},
   "outputs": [
    {
     "name": "stdout",
     "output_type": "stream",
     "text": [
      "radius:  3 pi:  3.14 area:  28.26\n",
      "radius:  3 pi:  3.1415 area:  28.27\n",
      "line_color : blue\n",
      "area_color : yellow\n",
      "\n",
      "radius:  5 pi:  3.14 area:  78.5\n",
      "radius:  5 pi:  3.1415 area:  78.54\n",
      "polygon_name : circle\n",
      "value : area\n"
     ]
    }
   ],
   "source": [
    "%run circle_undefined_parameter.py"
   ]
  },
  {
   "cell_type": "code",
   "execution_count": 46,
   "metadata": {},
   "outputs": [
    {
     "name": "stdout",
     "output_type": "stream",
     "text": [
      "Overwriting addAddi.py\n"
     ]
    }
   ],
   "source": [
    "%%writefile addAddi.py\n",
    "\n",
    "def add5(x, y, *args, **kargs):\n",
    "    print(\"local variables\", locals())\n",
    "    sum = sumj = 0\n",
    "    sum = x + y\n",
    "    for i in args:\n",
    "        sum += i\n",
    "    for k, j in kargs.items():\n",
    "        sumj += j\n",
    "    return sum + sumj\n",
    "\n",
    "print(add5(10, 20, 3, 4, 5, k1 = 1, k2 = 2))\n",
    "print(add5(10, 20, *(3, 4, 5), **dict(k1 = 1, k2 = 2)))\n",
    "print(add5(10, 20))"
   ]
  },
  {
   "cell_type": "code",
   "execution_count": 47,
   "metadata": {},
   "outputs": [
    {
     "name": "stdout",
     "output_type": "stream",
     "text": [
      "local variables {'x': 10, 'y': 20, 'args': (3, 4, 5), 'kargs': {'k1': 1, 'k2': 2}}\n",
      "45\n",
      "local variables {'x': 10, 'y': 20, 'args': (3, 4, 5), 'kargs': {'k1': 1, 'k2': 2}}\n",
      "45\n",
      "local variables {'x': 10, 'y': 20, 'args': (), 'kargs': {}}\n",
      "30\n"
     ]
    }
   ],
   "source": [
    "%run addAddi.py"
   ]
  },
  {
   "cell_type": "code",
   "execution_count": null,
   "metadata": {},
   "outputs": [],
   "source": []
  },
  {
   "cell_type": "code",
   "execution_count": null,
   "metadata": {},
   "outputs": [],
   "source": []
  },
  {
   "cell_type": "code",
   "execution_count": null,
   "metadata": {},
   "outputs": [],
   "source": []
  },
  {
   "cell_type": "code",
   "execution_count": null,
   "metadata": {},
   "outputs": [],
   "source": []
  },
  {
   "cell_type": "code",
   "execution_count": null,
   "metadata": {},
   "outputs": [],
   "source": []
  }
 ],
 "metadata": {
  "kernelspec": {
   "display_name": "Python 3",
   "language": "python",
   "name": "python3"
  },
  "language_info": {
   "codemirror_mode": {
    "name": "ipython",
    "version": 3
   },
   "file_extension": ".py",
   "mimetype": "text/x-python",
   "name": "python",
   "nbconvert_exporter": "python",
   "pygments_lexer": "ipython3",
   "version": "3.8.3"
  }
 },
 "nbformat": 4,
 "nbformat_minor": 4
}
