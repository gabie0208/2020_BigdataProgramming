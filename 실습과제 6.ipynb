{
 "cells": [
  {
   "cell_type": "code",
   "execution_count": null,
   "metadata": {},
   "outputs": [],
   "source": [
    "import time\n",
    "\n",
    "def checkTime(func):\n",
    "    \n",
    "    def newFunc(*args, **kwargs):\n",
    "        t = time.strftime('[%Y-%m-%d %H:%M]', time.localtime(time.time()))\n",
    "        print(t)\n",
    "        start = time.time()\n",
    "        func(*args, **kwargs)\n",
    "        end = time.time()\n",
    "        print(\"\\n실행시간은: \", end - start)\n",
    "    return newFunc\n",
    "\n",
    "@checkTime\n",
    "def aFunc():\n",
    "    for i in range(1, 101):\n",
    "        print(i, end = ' ')\n",
    "        \n",
    "@checkTime\n",
    "def bFunc(start, end):\n",
    "    for i in range(start, end+1):\n",
    "        print(i, end = ' ')"
   ]
  },
  {
   "cell_type": "code",
   "execution_count": null,
   "metadata": {},
   "outputs": [],
   "source": [
    "aFunc()\n",
    "print(\"------------------------\")\n",
    "bFunc(101, 202)"
   ]
  },
  {
   "cell_type": "code",
   "execution_count": null,
   "metadata": {},
   "outputs": [],
   "source": []
  }
 ],
 "metadata": {
  "kernelspec": {
   "display_name": "Python 3",
   "language": "python",
   "name": "python3"
  },
  "language_info": {
   "codemirror_mode": {
    "name": "ipython",
    "version": 3
   },
   "file_extension": ".py",
   "mimetype": "text/x-python",
   "name": "python",
   "nbconvert_exporter": "python",
   "pygments_lexer": "ipython3",
   "version": "3.8.3"
  }
 },
 "nbformat": 4,
 "nbformat_minor": 4
}
