{
 "cells": [
  {
   "cell_type": "markdown",
   "metadata": {},
   "source": [
    "## 1. Scoping Rule\n",
    "\n",
    "- 변수가 사용되는 범위 (함수 또는 main program)\n",
    "- 지역 변수(local variable) : 함수 내에서만\n",
    "- 전역 변수(global variable) : 프로그램 전체에서\n",
    "\n",
    "- 전역변수는 함수에서 사용 가능 but 함수 내에서 전역 변수에 새로운 값을 할당했을 경우, 새로운 지역변수가 생김\n",
    "- 함수 내에 전역 변수 사용시 global 키워드 사용"
   ]
  },
  {
   "cell_type": "code",
   "execution_count": 3,
   "metadata": {},
   "outputs": [
    {
     "name": "stdout",
     "output_type": "stream",
     "text": [
      "Overwriting calculate.py\n"
     ]
    }
   ],
   "source": [
    "%%writefile calculate.py\n",
    "\n",
    "def calculate(x, y):\n",
    "    total = x + y #새로운 값이 할당되어 함수 내 total은 지역변수\n",
    "    print(\"In Function\")\n",
    "    print(\"a:\", str(a), \"b:\", str(b), \"a+b:\", str(a+b), \"total:\", str(total))\n",
    "    return total\n",
    "\n",
    "a = 5\n",
    "b = 7\n",
    "total = 0\n",
    "print(\"In program -1\")\n",
    "print(\"a:\", str(a), \"b:\", str(b), \"a+b:\", str(a+b))\n",
    "\n",
    "sum = calculate(a,b)\n",
    "print(\"After calculation\")\n",
    "print(\"Total:\", str(total), \"Sum:\", str(sum)) #지역변수는 전역 변수에 영향 no"
   ]
  },
  {
   "cell_type": "code",
   "execution_count": 4,
   "metadata": {},
   "outputs": [
    {
     "name": "stdout",
     "output_type": "stream",
     "text": [
      "In program -1\n",
      "a: 5 b: 7 a+b: 12\n",
      "In Function\n",
      "a: 5 b: 7 a+b: 12 total: 12\n",
      "After calculation\n",
      "Total: 0 Sum: 12\n"
     ]
    }
   ],
   "source": [
    "%run calculate.py"
   ]
  },
  {
   "cell_type": "markdown",
   "metadata": {},
   "source": [
    "## 2. swap\n",
    "\n",
    "- swap_offset : 리스트의 전역 변수 값을 직접 변경\n",
    "- swap_reference : 리스트 객체의 주소 값을 받아 변경"
   ]
  },
  {
   "cell_type": "code",
   "execution_count": 19,
   "metadata": {},
   "outputs": [
    {
     "name": "stdout",
     "output_type": "stream",
     "text": [
      "Overwriting swap.py\n"
     ]
    }
   ],
   "source": [
    "%%writefile swap.py\n",
    "\n",
    "def swap_value(x, y):\n",
    "    temp = x\n",
    "    x = y\n",
    "    y = temp\n",
    "    \n",
    "def swap_offset(offset_x, offset_y):\n",
    "    temp = a[offset_x]\n",
    "    a[offset_x] = a[offset_y]\n",
    "    a[offset_y] = temp\n",
    "    \n",
    "def swap_reference(list, offset_x, offset_y):\n",
    "    temp = list[offset_x]\n",
    "    list[offset_x] = list[offset_y]\n",
    "    list[offset_y] = temp\n",
    "    \n",
    "a = [1, 2, 3, 4, 5]\n",
    "swap_value(a[1], a[2])\n",
    "print(a)\n",
    "\n",
    "swap_offset(1, 2)\n",
    "print(a)\n",
    "\n",
    "swap_reference(a, 1, 2)\n",
    "print(a)"
   ]
  },
  {
   "cell_type": "code",
   "execution_count": 20,
   "metadata": {},
   "outputs": [
    {
     "name": "stdout",
     "output_type": "stream",
     "text": [
      "[1, 2, 3, 4, 5]\n",
      "[1, 3, 2, 4, 5]\n",
      "[1, 2, 3, 4, 5]\n"
     ]
    }
   ],
   "source": [
    "%run swap.py"
   ]
  },
  {
   "cell_type": "markdown",
   "metadata": {},
   "source": [
    "## 피보나치 실습"
   ]
  },
  {
   "cell_type": "code",
   "execution_count": 25,
   "metadata": {},
   "outputs": [
    {
     "name": "stdout",
     "output_type": "stream",
     "text": [
      "Overwriting fibonacci.py\n"
     ]
    }
   ],
   "source": [
    "%%writefile fibonacci.py\n",
    "\n",
    "def fibo(n):\n",
    "    if (n==0): return 0\n",
    "    if (n==1): return 1\n",
    "    else:\n",
    "        return fibo(n-1) + fibo(n-2)\n",
    "\n",
    "if __name__ == \"__main__\":\n",
    "    n = int(input(\"Input: \"))\n",
    "    print(fibo(n))"
   ]
  },
  {
   "cell_type": "code",
   "execution_count": 26,
   "metadata": {},
   "outputs": [
    {
     "name": "stdout",
     "output_type": "stream",
     "text": [
      "Input: 7\n",
      "13\n"
     ]
    }
   ],
   "source": [
    "%run fibonacci.py"
   ]
  },
  {
   "cell_type": "code",
   "execution_count": 27,
   "metadata": {},
   "outputs": [
    {
     "name": "stdout",
     "output_type": "stream",
     "text": [
      "Writing fibona.py\n"
     ]
    }
   ],
   "source": [
    "%%writefile fibona.py\n",
    "\n",
    "def fibo(n):\n",
    "    if (n==0): return 0\n",
    "    if (n==1): return 1\n",
    "    else:\n",
    "        return fibo(n-1) + fibo(n-2)"
   ]
  },
  {
   "cell_type": "code",
   "execution_count": 29,
   "metadata": {},
   "outputs": [
    {
     "data": {
      "text/plain": [
       "13"
      ]
     },
     "execution_count": 29,
     "metadata": {},
     "output_type": "execute_result"
    }
   ],
   "source": [
    "import fibona\n",
    "fibona.fibo(7)"
   ]
  },
  {
   "cell_type": "code",
   "execution_count": null,
   "metadata": {},
   "outputs": [],
   "source": []
  }
 ],
 "metadata": {
  "kernelspec": {
   "display_name": "Python 3",
   "language": "python",
   "name": "python3"
  },
  "language_info": {
   "codemirror_mode": {
    "name": "ipython",
    "version": 3
   },
   "file_extension": ".py",
   "mimetype": "text/x-python",
   "name": "python",
   "nbconvert_exporter": "python",
   "pygments_lexer": "ipython3",
   "version": "3.8.3"
  }
 },
 "nbformat": 4,
 "nbformat_minor": 4
}
