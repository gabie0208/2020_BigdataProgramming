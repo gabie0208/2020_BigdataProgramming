{
 "cells": [
  {
   "cell_type": "markdown",
   "metadata": {},
   "source": [
    "## 9. Scoping Rule\n",
    "\n",
    "- scope : 영역, 영역이란 이름의 의미를 갖는 범위\n",
    "- 스코프를 벗어난 변수의 접근은 오류 발생 시킴"
   ]
  },
  {
   "cell_type": "code",
   "execution_count": 1,
   "metadata": {},
   "outputs": [
    {
     "name": "stdout",
     "output_type": "stream",
     "text": [
      "Overwriting scoping_rule1.py\n"
     ]
    }
   ],
   "source": [
    "%%writefile scoping_rule1.py\n",
    "\n",
    "def circle_area(r):\n",
    "    result = 3.14 * (r**2)\n",
    "    return result\n",
    "if __name__ == \"__main__\":\n",
    "    radius = 3\n",
    "    area = circle_area(radius)\n",
    "    print(\"radius: %d, area: %.2f\" %(radius, area))\n",
    "    print(r) #scope을 벗어난 변수의 접근은 오류를 발생시킴"
   ]
  },
  {
   "cell_type": "code",
   "execution_count": 2,
   "metadata": {},
   "outputs": [
    {
     "name": "stdout",
     "output_type": "stream",
     "text": [
      "radius: 3, area: 28.26\n"
     ]
    },
    {
     "ename": "NameError",
     "evalue": "name 'r' is not defined",
     "output_type": "error",
     "traceback": [
      "\u001b[1;31m---------------------------------------------------------------------------\u001b[0m",
      "\u001b[1;31mNameError\u001b[0m                                 Traceback (most recent call last)",
      "\u001b[1;32m~\\Desktop\\Programming\\PYTHON\\2020기빅프\\기빅프 수업 노트\\scoping_rule1.py\u001b[0m in \u001b[0;36m<module>\u001b[1;34m\u001b[0m\n\u001b[0;32m      7\u001b[0m     \u001b[0marea\u001b[0m \u001b[1;33m=\u001b[0m \u001b[0mcircle_area\u001b[0m\u001b[1;33m(\u001b[0m\u001b[0mradius\u001b[0m\u001b[1;33m)\u001b[0m\u001b[1;33m\u001b[0m\u001b[1;33m\u001b[0m\u001b[0m\n\u001b[0;32m      8\u001b[0m     \u001b[0mprint\u001b[0m\u001b[1;33m(\u001b[0m\u001b[1;34m\"radius: %d, area: %.2f\"\u001b[0m \u001b[1;33m%\u001b[0m\u001b[1;33m(\u001b[0m\u001b[0mradius\u001b[0m\u001b[1;33m,\u001b[0m \u001b[0marea\u001b[0m\u001b[1;33m)\u001b[0m\u001b[1;33m)\u001b[0m\u001b[1;33m\u001b[0m\u001b[1;33m\u001b[0m\u001b[0m\n\u001b[1;32m----> 9\u001b[1;33m     \u001b[0mprint\u001b[0m\u001b[1;33m(\u001b[0m\u001b[0mr\u001b[0m\u001b[1;33m)\u001b[0m \u001b[1;31m#scope을 벗어난 변수의 접근은 오류를 발생시킴\u001b[0m\u001b[1;33m\u001b[0m\u001b[1;33m\u001b[0m\u001b[0m\n\u001b[0m",
      "\u001b[1;31mNameError\u001b[0m: name 'r' is not defined"
     ]
    }
   ],
   "source": [
    "%run scoping_rule1.py"
   ]
  },
  {
   "cell_type": "markdown",
   "metadata": {},
   "source": [
    "### LGB 규칙\n",
    "\n",
    "- 이름을 찾는 순서는 local > global > built-in\n",
    "- local : 함수나 클래스 안을 의미\n",
    "- global : 프로그램이 수행되는 가장 높은 계층(파일)\n",
    "- built-in : 파이썬이 특별히 예약해둔 이름들"
   ]
  },
  {
   "cell_type": "code",
   "execution_count": 9,
   "metadata": {},
   "outputs": [
    {
     "name": "stdout",
     "output_type": "stream",
     "text": [
      "Overwriting scoping_rule2.py\n"
     ]
    }
   ],
   "source": [
    "%%writefile scoping_rule2.py\n",
    "\n",
    "# scoping_rule2 global area\n",
    "pi = 3.14159\n",
    "\n",
    "def circle_area_with_pi(r):\n",
    "    # circle_area_with_pi area\n",
    "    pi = 3.14\n",
    "    result = pi * (r**2)\n",
    "    return result\n",
    "\n",
    "def circle_area_without_pi(r):\n",
    "    #circle_area_without_pi area\n",
    "    result = pi * (r ** 2)\n",
    "    return result\n",
    "\n",
    "def sum_areas():\n",
    "    results = [circle_area_with_pi(3), circle_area_without_pi(3)]\n",
    "    return sum(results) #built-in sum 함수 호출\n",
    "\n",
    "if __name__ == \"__main__\":\n",
    "    print(\"pi: \", pi)\n",
    "    print(\"radius: \", 3, \"area: \", circle_area_with_pi(3))\n",
    "    print(\"radius: \", 3, \"area: \", circle_area_without_pi(3))\n",
    "    print(sum_areas())"
   ]
  },
  {
   "cell_type": "code",
   "execution_count": 10,
   "metadata": {},
   "outputs": [
    {
     "name": "stdout",
     "output_type": "stream",
     "text": [
      "pi:  3.14159\n",
      "radius:  3 area:  28.26\n",
      "radius:  3 area:  28.27431\n",
      "56.534310000000005\n"
     ]
    }
   ],
   "source": [
    "%run scoping_rule2.py"
   ]
  },
  {
   "cell_type": "markdown",
   "metadata": {},
   "source": [
    "### global 변수를 local에서 접근은 가능 but 바로 연산에 이용하면 오류 발생"
   ]
  },
  {
   "cell_type": "code",
   "execution_count": 11,
   "metadata": {},
   "outputs": [
    {
     "name": "stdout",
     "output_type": "stream",
     "text": [
      "Writing scoping_rule3.py\n"
     ]
    }
   ],
   "source": [
    "%%writefile scoping_rule3.py\n",
    "\n",
    "# scoping_rule3 area\n",
    "pi = 3.14\n",
    "\n",
    "def circle_area(r):\n",
    "    #circle_area local area\n",
    "    pi = pi + 0.0015\n",
    "    result = pi * (r**2)\n",
    "    return result\n",
    "\n",
    "if __name__ == \"__main__\":\n",
    "    print(\"pi: \", pi)\n",
    "    print(\"Radius: \", 3, \"area: \", circle_area(3))\n",
    "    print(\"pi: \", pi)"
   ]
  },
  {
   "cell_type": "code",
   "execution_count": 12,
   "metadata": {},
   "outputs": [
    {
     "name": "stdout",
     "output_type": "stream",
     "text": [
      "pi:  3.14\n"
     ]
    },
    {
     "ename": "UnboundLocalError",
     "evalue": "local variable 'pi' referenced before assignment",
     "output_type": "error",
     "traceback": [
      "\u001b[1;31m---------------------------------------------------------------------------\u001b[0m",
      "\u001b[1;31mUnboundLocalError\u001b[0m                         Traceback (most recent call last)",
      "\u001b[1;32m~\\Desktop\\Programming\\PYTHON\\2020기빅프\\기빅프 수업 노트\\scoping_rule3.py\u001b[0m in \u001b[0;36m<module>\u001b[1;34m\u001b[0m\n\u001b[0;32m     11\u001b[0m \u001b[1;32mif\u001b[0m \u001b[0m__name__\u001b[0m \u001b[1;33m==\u001b[0m \u001b[1;34m\"__main__\"\u001b[0m\u001b[1;33m:\u001b[0m\u001b[1;33m\u001b[0m\u001b[1;33m\u001b[0m\u001b[0m\n\u001b[0;32m     12\u001b[0m     \u001b[0mprint\u001b[0m\u001b[1;33m(\u001b[0m\u001b[1;34m\"pi: \"\u001b[0m\u001b[1;33m,\u001b[0m \u001b[0mpi\u001b[0m\u001b[1;33m)\u001b[0m\u001b[1;33m\u001b[0m\u001b[1;33m\u001b[0m\u001b[0m\n\u001b[1;32m---> 13\u001b[1;33m     \u001b[0mprint\u001b[0m\u001b[1;33m(\u001b[0m\u001b[1;34m\"Radius: \"\u001b[0m\u001b[1;33m,\u001b[0m \u001b[1;36m3\u001b[0m\u001b[1;33m,\u001b[0m \u001b[1;34m\"area: \"\u001b[0m\u001b[1;33m,\u001b[0m \u001b[0mcircle_area\u001b[0m\u001b[1;33m(\u001b[0m\u001b[1;36m3\u001b[0m\u001b[1;33m)\u001b[0m\u001b[1;33m)\u001b[0m\u001b[1;33m\u001b[0m\u001b[1;33m\u001b[0m\u001b[0m\n\u001b[0m\u001b[0;32m     14\u001b[0m     \u001b[0mprint\u001b[0m\u001b[1;33m(\u001b[0m\u001b[1;34m\"pi: \"\u001b[0m\u001b[1;33m,\u001b[0m \u001b[0mpi\u001b[0m\u001b[1;33m)\u001b[0m\u001b[1;33m\u001b[0m\u001b[1;33m\u001b[0m\u001b[0m\n",
      "\u001b[1;32m~\\Desktop\\Programming\\PYTHON\\2020기빅프\\기빅프 수업 노트\\scoping_rule3.py\u001b[0m in \u001b[0;36mcircle_area\u001b[1;34m(r)\u001b[0m\n\u001b[0;32m      5\u001b[0m \u001b[1;32mdef\u001b[0m \u001b[0mcircle_area\u001b[0m\u001b[1;33m(\u001b[0m\u001b[0mr\u001b[0m\u001b[1;33m)\u001b[0m\u001b[1;33m:\u001b[0m\u001b[1;33m\u001b[0m\u001b[1;33m\u001b[0m\u001b[0m\n\u001b[0;32m      6\u001b[0m     \u001b[1;31m#circle_area local area\u001b[0m\u001b[1;33m\u001b[0m\u001b[1;33m\u001b[0m\u001b[1;33m\u001b[0m\u001b[0m\n\u001b[1;32m----> 7\u001b[1;33m     \u001b[0mpi\u001b[0m \u001b[1;33m=\u001b[0m \u001b[0mpi\u001b[0m \u001b[1;33m+\u001b[0m \u001b[1;36m0.0015\u001b[0m\u001b[1;33m\u001b[0m\u001b[1;33m\u001b[0m\u001b[0m\n\u001b[0m\u001b[0;32m      8\u001b[0m     \u001b[0mresult\u001b[0m \u001b[1;33m=\u001b[0m \u001b[0mpi\u001b[0m \u001b[1;33m*\u001b[0m \u001b[1;33m(\u001b[0m\u001b[0mr\u001b[0m\u001b[1;33m**\u001b[0m\u001b[1;36m2\u001b[0m\u001b[1;33m)\u001b[0m\u001b[1;33m\u001b[0m\u001b[1;33m\u001b[0m\u001b[0m\n\u001b[0;32m      9\u001b[0m     \u001b[1;32mreturn\u001b[0m \u001b[0mresult\u001b[0m\u001b[1;33m\u001b[0m\u001b[1;33m\u001b[0m\u001b[0m\n",
      "\u001b[1;31mUnboundLocalError\u001b[0m: local variable 'pi' referenced before assignment"
     ]
    }
   ],
   "source": [
    "%run scoping_rule3.py"
   ]
  },
  {
   "cell_type": "markdown",
   "metadata": {},
   "source": [
    "## sol) 해당 변수가 global 영역의 변수임을 알려라"
   ]
  },
  {
   "cell_type": "code",
   "execution_count": 13,
   "metadata": {},
   "outputs": [
    {
     "name": "stdout",
     "output_type": "stream",
     "text": [
      "Writing scoping_rule4.py\n"
     ]
    }
   ],
   "source": [
    "%%writefile scoping_rule4.py\n",
    "\n",
    "# scoping_rule3 area\n",
    "pi = 3.14\n",
    "\n",
    "def circle_area(r):\n",
    "    #circle_area local area\n",
    "    global pi    # 이 공간에서의 pi == global pi\n",
    "    pi = pi + 0.0015\n",
    "    result = pi * (r**2)\n",
    "    return result\n",
    "\n",
    "if __name__ == \"__main__\":\n",
    "    print(\"pi: \", pi)\n",
    "    print(\"Radius: \", 3, \"area: \", circle_area(3))\n",
    "    print(\"pi: \", pi)"
   ]
  },
  {
   "cell_type": "code",
   "execution_count": 14,
   "metadata": {},
   "outputs": [
    {
     "name": "stdout",
     "output_type": "stream",
     "text": [
      "pi:  3.14\n",
      "Radius:  3 area:  28.273500000000002\n",
      "pi:  3.1415\n"
     ]
    }
   ],
   "source": [
    "%run scoping_rule4.py"
   ]
  },
  {
   "cell_type": "markdown",
   "metadata": {},
   "source": [
    "## 10. 재귀 함수 recursive\n",
    "\n",
    "- 함수가 자신을 호출하는 경우의 함수"
   ]
  },
  {
   "cell_type": "code",
   "execution_count": 15,
   "metadata": {},
   "outputs": [
    {
     "name": "stdout",
     "output_type": "stream",
     "text": [
      "Writing recursive_sum.py\n"
     ]
    }
   ],
   "source": [
    "%%writefile recursive_sum.py\n",
    "\n",
    "def sum(n):\n",
    "    if n == 1: return 1\n",
    "    else:\n",
    "        return sum(n-1) + n # 재귀적 호출이 일어나는 부분\n",
    "    \n",
    "if __name__ == \"__main__\":\n",
    "    print(\"sum of 1 to 100: %d\" %sum(100))\n",
    "    print(\"sum of 1 to 200: %d\" %sum(200))"
   ]
  },
  {
   "cell_type": "code",
   "execution_count": 16,
   "metadata": {},
   "outputs": [
    {
     "name": "stdout",
     "output_type": "stream",
     "text": [
      "sum of 1 to 100: 5050\n",
      "sum of 1 to 200: 20100\n"
     ]
    }
   ],
   "source": [
    "%run recursive_sum.py"
   ]
  },
  {
   "cell_type": "code",
   "execution_count": 17,
   "metadata": {},
   "outputs": [
    {
     "name": "stdout",
     "output_type": "stream",
     "text": [
      "Writing factorial.py\n"
     ]
    }
   ],
   "source": [
    "%%writefile factorial.py\n",
    "\n",
    "def fact(n):\n",
    "    if n == 0: return 1\n",
    "    else:\n",
    "        return fact(n-1)*n\n",
    "    \n",
    "if __name__ == \"__main__\":\n",
    "    print(\"5! = %d\" %fact(5))\n",
    "    print(\"20! = %d\" %fact(20))\n",
    "    print(\"200! = %d\" %fact(200))"
   ]
  },
  {
   "cell_type": "code",
   "execution_count": 18,
   "metadata": {},
   "outputs": [
    {
     "name": "stdout",
     "output_type": "stream",
     "text": [
      "5! = 120\n",
      "20! = 2432902008176640000\n",
      "200! = 788657867364790503552363213932185062295135977687173263294742533244359449963403342920304284011984623904177212138919638830257642790242637105061926624952829931113462857270763317237396988943922445621451664240254033291864131227428294853277524242407573903240321257405579568660226031904170324062351700858796178922222789623703897374720000000000000000000000000000000000000000000000000\n"
     ]
    }
   ],
   "source": [
    "%run factorial.py"
   ]
  },
  {
   "cell_type": "code",
   "execution_count": 24,
   "metadata": {},
   "outputs": [
    {
     "name": "stdout",
     "output_type": "stream",
     "text": [
      "Overwriting fibonacci.py\n"
     ]
    }
   ],
   "source": [
    "%%writefile fibonacci.py\n",
    "\n",
    "def fibo(n):\n",
    "    if n==1: return 1\n",
    "    elif n==2: return 1\n",
    "    else:\n",
    "        return fibo(n-2) + fibo(n-1) \n",
    "    \n",
    "if __name__ == \"__main__\":\n",
    "    print(\"10th fibo = %d\" %fibo(10))\n",
    "    print(\"20th fibo = %d\" %fibo(20))\n",
    "    print(\"30th fibo = %d\" %fibo(30))\n",
    "    print(\"35th fibo = %d\" %fibo(35))"
   ]
  },
  {
   "cell_type": "code",
   "execution_count": 25,
   "metadata": {},
   "outputs": [
    {
     "name": "stdout",
     "output_type": "stream",
     "text": [
      "10th fibo = 55\n",
      "20th fibo = 6765\n",
      "30th fibo = 832040\n",
      "35th fibo = 9227465\n"
     ]
    }
   ],
   "source": [
    "%run fibonacci.py"
   ]
  },
  {
   "cell_type": "markdown",
   "metadata": {},
   "source": [
    "### Fibonacci sequence by Generator\n",
    "\n",
    "- 함수 내에 yield가 포함될 경우, 그 함수는 generator\n",
    "- yield : 함수를 끝내지 않고 호출한 곳에 값을 전달\n",
    "- generator는 for문과 짝을 이룸\n",
    "- enumerate() : 순회 간으한 객체(순서가 있는 자료형, 리스트, 튜플, 문자열)에서 인덱스 값과 요소 값 둘다 반환하는 내장함수)"
   ]
  },
  {
   "cell_type": "code",
   "execution_count": 28,
   "metadata": {},
   "outputs": [
    {
     "name": "stdout",
     "output_type": "stream",
     "text": [
      "Overwriting generator.py\n"
     ]
    }
   ],
   "source": [
    "%%writefile generator.py\n",
    "\n",
    "def fibonacci():\n",
    "    a, b = 0, 1\n",
    "    while 1:\n",
    "        yield a\n",
    "        a, b = b, a+b\n",
    "        \n",
    "for i, ret in enumerate(fibonacci()):\n",
    "    if i < 20: print(i, ret)\n",
    "    else: break"
   ]
  },
  {
   "cell_type": "code",
   "execution_count": 29,
   "metadata": {},
   "outputs": [
    {
     "name": "stdout",
     "output_type": "stream",
     "text": [
      "0 0\n",
      "1 1\n",
      "2 1\n",
      "3 2\n",
      "4 3\n",
      "5 5\n",
      "6 8\n",
      "7 13\n",
      "8 21\n",
      "9 34\n",
      "10 55\n",
      "11 89\n",
      "12 144\n",
      "13 233\n",
      "14 377\n",
      "15 610\n",
      "16 987\n",
      "17 1597\n",
      "18 2584\n",
      "19 4181\n"
     ]
    }
   ],
   "source": [
    "%run generator.py"
   ]
  },
  {
   "cell_type": "markdown",
   "metadata": {},
   "source": [
    "## 실습과제2 yield 이용하여 fibonacci number 구하기"
   ]
  },
  {
   "cell_type": "code",
   "execution_count": 30,
   "metadata": {},
   "outputs": [
    {
     "name": "stdout",
     "output_type": "stream",
     "text": [
      "Writing Fibonacci1.py\n"
     ]
    }
   ],
   "source": [
    "%%writefile Fibonacci1.py\n",
    "\n",
    "def Fibo_func(N):\n",
    "    a, b = 0, 1\n",
    "    for i in range(N+1):\n",
    "        yield a\n",
    "        a, b = b, a+b"
   ]
  },
  {
   "cell_type": "code",
   "execution_count": 31,
   "metadata": {},
   "outputs": [],
   "source": [
    "%run Fibonacci1.py"
   ]
  },
  {
   "cell_type": "code",
   "execution_count": 33,
   "metadata": {},
   "outputs": [],
   "source": [
    "import Fibonacci1\n",
    "fib = Fibonacci1.Fibo_func(10)"
   ]
  },
  {
   "cell_type": "code",
   "execution_count": 34,
   "metadata": {},
   "outputs": [
    {
     "name": "stdout",
     "output_type": "stream",
     "text": [
      "0\n",
      "1\n",
      "1\n",
      "2\n",
      "3\n",
      "5\n",
      "8\n",
      "13\n",
      "21\n",
      "34\n",
      "55\n"
     ]
    }
   ],
   "source": [
    "for i in fib:\n",
    "    print(i)"
   ]
  },
  {
   "cell_type": "markdown",
   "metadata": {},
   "source": [
    "### yield & return"
   ]
  },
  {
   "cell_type": "code",
   "execution_count": 35,
   "metadata": {},
   "outputs": [
    {
     "name": "stdout",
     "output_type": "stream",
     "text": [
      "f\n",
      "l\n",
      "o\n",
      "g\n"
     ]
    }
   ],
   "source": [
    "def reverse(data):\n",
    "    for index in range(len(data)-1, -1, -1):\n",
    "        yield data[index]\n",
    "        \n",
    "for char in reverse('golf'):\n",
    "    print(char)"
   ]
  },
  {
   "cell_type": "code",
   "execution_count": 36,
   "metadata": {},
   "outputs": [
    {
     "name": "stdout",
     "output_type": "stream",
     "text": [
      "f\n"
     ]
    }
   ],
   "source": [
    "def reverse(data):\n",
    "    for index in range(len(data)-1, -1, -1):\n",
    "        return data[index]\n",
    "for char in reverse('golf'):\n",
    "    print(char)"
   ]
  },
  {
   "cell_type": "code",
   "execution_count": 38,
   "metadata": {},
   "outputs": [
    {
     "name": "stdout",
     "output_type": "stream",
     "text": [
      "<generator object square_numbers at 0x000002D38C209970>\n"
     ]
    }
   ],
   "source": [
    "def square_numbers(nums):\n",
    "    for i in nums:\n",
    "        yield i * i\n",
    "\n",
    "my_nums = square_numbers([1, 2, 3, 4, 5])\n",
    "print(my_nums)"
   ]
  },
  {
   "cell_type": "code",
   "execution_count": 39,
   "metadata": {},
   "outputs": [
    {
     "name": "stdout",
     "output_type": "stream",
     "text": [
      "1\n"
     ]
    }
   ],
   "source": [
    "def square_numbers(nums):\n",
    "    for i in nums:\n",
    "        yield i * i\n",
    "        \n",
    "my_nums = square_numbers([1, 2, 3, 4, 5])\n",
    "print(next(my_nums))"
   ]
  },
  {
   "cell_type": "code",
   "execution_count": 40,
   "metadata": {},
   "outputs": [
    {
     "name": "stdout",
     "output_type": "stream",
     "text": [
      "1\n",
      "4\n",
      "9\n",
      "16\n",
      "25\n"
     ]
    },
    {
     "ename": "StopIteration",
     "evalue": "",
     "output_type": "error",
     "traceback": [
      "\u001b[1;31m---------------------------------------------------------------------------\u001b[0m",
      "\u001b[1;31mStopIteration\u001b[0m                             Traceback (most recent call last)",
      "\u001b[1;32m<ipython-input-40-17b6427ef25f>\u001b[0m in \u001b[0;36m<module>\u001b[1;34m\u001b[0m\n\u001b[0;32m      7\u001b[0m \u001b[1;32mfor\u001b[0m \u001b[0mi\u001b[0m \u001b[1;32min\u001b[0m \u001b[0mmy_nums\u001b[0m\u001b[1;33m:\u001b[0m\u001b[1;33m\u001b[0m\u001b[1;33m\u001b[0m\u001b[0m\n\u001b[0;32m      8\u001b[0m     \u001b[0mprint\u001b[0m\u001b[1;33m(\u001b[0m\u001b[0mi\u001b[0m\u001b[1;33m)\u001b[0m\u001b[1;33m\u001b[0m\u001b[1;33m\u001b[0m\u001b[0m\n\u001b[1;32m----> 9\u001b[1;33m \u001b[0mprint\u001b[0m\u001b[1;33m(\u001b[0m\u001b[0mnext\u001b[0m\u001b[1;33m(\u001b[0m\u001b[0mmy_nums\u001b[0m\u001b[1;33m)\u001b[0m\u001b[1;33m)\u001b[0m\u001b[1;33m\u001b[0m\u001b[1;33m\u001b[0m\u001b[0m\n\u001b[0m",
      "\u001b[1;31mStopIteration\u001b[0m: "
     ]
    }
   ],
   "source": [
    "def square_numbers(nums):\n",
    "    for i in nums:\n",
    "        yield i * i\n",
    "        \n",
    "my_nums = square_numbers([1, 2, 3, 4, 5])\n",
    "\n",
    "for i in my_nums:\n",
    "    print(i)\n",
    "print(next(my_nums))"
   ]
  },
  {
   "cell_type": "code",
   "execution_count": 41,
   "metadata": {},
   "outputs": [
    {
     "name": "stdout",
     "output_type": "stream",
     "text": [
      "Start test()\n",
      "[0, 2, 4, 6, 8]\n"
     ]
    }
   ],
   "source": [
    "def Test():\n",
    "    print(\"Start test()\")\n",
    "    tmp = [x + x for x in range(5)]\n",
    "    return tmp\n",
    "a = Test()\n",
    "print(a)"
   ]
  },
  {
   "cell_type": "code",
   "execution_count": 42,
   "metadata": {},
   "outputs": [
    {
     "name": "stdout",
     "output_type": "stream",
     "text": [
      "Start test()\n",
      "0\n",
      "2\n",
      "4\n",
      "6\n",
      "8\n"
     ]
    }
   ],
   "source": [
    "def Test():\n",
    "    print(\"Start test()\")\n",
    "    for x in range(5):\n",
    "        yield x + x\n",
    "a = Test()\n",
    "for i in a:\n",
    "    print(i)"
   ]
  },
  {
   "cell_type": "code",
   "execution_count": 43,
   "metadata": {},
   "outputs": [
    {
     "name": "stdout",
     "output_type": "stream",
     "text": [
      "Start test()\n",
      "0\n",
      "2\n",
      "4\n",
      "6\n",
      "8\n"
     ]
    }
   ],
   "source": [
    "def Test():\n",
    "    print(\"Start test()\")\n",
    "    for x in range(5):\n",
    "        yield x + x\n",
    "a = Test()\n",
    "for i in range(0, 5):\n",
    "    print(next(a))"
   ]
  }
 ],
 "metadata": {
  "kernelspec": {
   "display_name": "Python 3",
   "language": "python",
   "name": "python3"
  },
  "language_info": {
   "codemirror_mode": {
    "name": "ipython",
    "version": 3
   },
   "file_extension": ".py",
   "mimetype": "text/x-python",
   "name": "python",
   "nbconvert_exporter": "python",
   "pygments_lexer": "ipython3",
   "version": "3.8.3"
  }
 },
 "nbformat": 4,
 "nbformat_minor": 4
}
