{
 "cells": [
  {
   "cell_type": "code",
   "execution_count": 1,
   "metadata": {},
   "outputs": [
    {
     "name": "stdout",
     "output_type": "stream",
     "text": [
      "\n",
      "park sunje 남 890901-*******\n",
      "kim sunhee 여 990103-*******\n",
      "ko hyejung 여 000208-*******\n",
      "\n"
     ]
    }
   ],
   "source": [
    "data = \"\"\"\n",
    "park sunje 890901-1074422\n",
    "kim sunhee 990103-2079912\n",
    "ko hyejung 000208-4337413\n",
    "\"\"\"\n",
    "result=[]\n",
    "for line in data.split(\"\\n\"):\n",
    "    word_res=[]\n",
    "    \n",
    "    for word in line.split(\" \"):\n",
    "        if len(word)==14 and word[:6].isdigit() and word[7:].isdigit():\n",
    "            sex = word[7]\n",
    "            if int(sex)%2 == 1:\n",
    "                word = \"남 \" + word[:6]+\"-\"+\"*******\"\n",
    "            elif int(sex)%2 == 0:\n",
    "                word = \"여 \" + word[:6]+\"-\"+\"*******\"\n",
    "            \n",
    "        word_res.append(word)\n",
    "    result.append(\" \".join(word_res))  \n",
    "print(\"\\n\".join(result))"
   ]
  },
  {
   "cell_type": "code",
   "execution_count": 2,
   "metadata": {},
   "outputs": [],
   "source": [
    "fp = open('Testdata.txt', 'wt', encoding = 'cp949')\n",
    "fp.write('홍길동 560922-1089123 02-705-8491\\n')\n",
    "fp.write('홍길동 560922-1089123 042-7052-8491\\n')\n",
    "fp.write('김바한솔 911212-1089123 042-705-8491\\n')\n",
    "fp.write('김연찬 920922-1089123 031-7054-8491\\n')\n",
    "fp.close()"
   ]
  },
  {
   "cell_type": "code",
   "execution_count": 3,
   "metadata": {},
   "outputs": [
    {
     "name": "stdout",
     "output_type": "stream",
     "text": [
      "홍길동 남 560922-******* 02-705-8491\n",
      "홍길동 남 560922-******* 042-7052-8491\n",
      "김바한솔 남 911212-******* 042-705-8491\n",
      "김연찬 남 920922-******* 031-7054-8491\n",
      "\n"
     ]
    }
   ],
   "source": [
    "f = open('Testdata.txt', 'r')\n",
    "\n",
    "result=[]\n",
    "for line in f:\n",
    "    word_res=[]\n",
    "    \n",
    "    for word in line.split(\" \"):\n",
    "        if len(word)==14 and word[:6].isdigit() and word[7:].isdigit():\n",
    "            sex = word[7]\n",
    "            if int(sex)%2 == 1:\n",
    "                word = \"남 \" + word[:6]+\"-\"+\"*******\"\n",
    "            elif int(sex)%2 == 0:\n",
    "                word = \"여 \" + word[:6]+\"-\"+\"*******\"\n",
    "            \n",
    "        word_res.append(word)\n",
    "    result.append(\" \".join(word_res))  \n",
    "print(\"\".join(result))"
   ]
  },
  {
   "cell_type": "code",
   "execution_count": null,
   "metadata": {},
   "outputs": [],
   "source": []
  }
 ],
 "metadata": {
  "kernelspec": {
   "display_name": "Python 3",
   "language": "python",
   "name": "python3"
  },
  "language_info": {
   "codemirror_mode": {
    "name": "ipython",
    "version": 3
   },
   "file_extension": ".py",
   "mimetype": "text/x-python",
   "name": "python",
   "nbconvert_exporter": "python",
   "pygments_lexer": "ipython3",
   "version": "3.8.3"
  }
 },
 "nbformat": 4,
 "nbformat_minor": 4
}
